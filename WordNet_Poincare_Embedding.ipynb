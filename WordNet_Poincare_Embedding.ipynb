{
 "cells": [
  {
   "cell_type": "markdown",
   "metadata": {},
   "source": [
    "# 0. Import Packages and Modules"
   ]
  },
  {
   "cell_type": "code",
   "execution_count": 1,
   "metadata": {},
   "outputs": [
    {
     "name": "stderr",
     "output_type": "stream",
     "text": [
      "[nltk_data] Downloading package wordnet to\n",
      "[nltk_data]     /Users/cashewmake/nltk_data...\n",
      "[nltk_data]   Package wordnet is already up-to-date!\n"
     ]
    }
   ],
   "source": [
    "from nltk.corpus import wordnet as wn\n",
    "import pandas as pd\n",
    "import torch\n",
    "\n",
    "from datasets import generate_synset_df, generate_D, generate_Nu\n",
    "import geometry as geom"
   ]
  },
  {
   "cell_type": "markdown",
   "metadata": {},
   "source": [
    "# 1. Load formatted WordNet Data"
   ]
  },
  {
   "cell_type": "code",
   "execution_count": 2,
   "metadata": {},
   "outputs": [
    {
     "name": "stdout",
     "output_type": "stream",
     "text": [
      "Synset('placental.n.01')\n",
      "\n",
      "Hyponyms:\n",
      "[Synset('aardvark.n.01'), Synset('aquatic_mammal.n.01'), Synset('bat.n.01'), Synset('buck.n.05'), Synset('bull.n.11'), Synset('carnivore.n.01'), Synset('cow.n.02'), Synset('digitigrade_mammal.n.01'), Synset('doe.n.02'), Synset('edentate.n.01'), Synset('fissipedia.n.01'), Synset('flying_lemur.n.01'), Synset('hyrax.n.01'), Synset('insectivore.n.01'), Synset('lagomorph.n.01'), Synset('livestock.n.01'), Synset('pachyderm.n.01'), Synset('pangolin.n.01'), Synset('plantigrade_mammal.n.01'), Synset('primate.n.02'), Synset('proboscidean.n.01'), Synset('rodent.n.01'), Synset('tree_shrew.n.01'), Synset('unguiculata.n.01'), Synset('unguiculate.n.01'), Synset('ungulata.n.01'), Synset('ungulate.n.01'), Synset('yearling.n.03')]\n",
      "\n",
      "Hypernyms:\n",
      "[Synset('mammal.n.01')]\n"
     ]
    }
   ],
   "source": [
    "synset_root = 'placental.n.01'# 'mammal.n.01'\n",
    "root = wn.synset(synset_root)\n",
    "\n",
    "print(root)\n",
    "print('\\nHyponyms:') \n",
    "print(root.hyponyms())\n",
    "print('\\nHypernyms:')\n",
    "print(root.hypernyms())"
   ]
  },
  {
   "cell_type": "markdown",
   "metadata": {},
   "source": [
    "# 2. Create (u,v) Mapping for Sampling\n",
    "- df: dataframe containing information on synset relations\n",
    "- D: list representing positive, directed connections of the form (u, [v1,v2,...,vn])"
   ]
  },
  {
   "cell_type": "code",
   "execution_count": 3,
   "metadata": {},
   "outputs": [],
   "source": [
    "df = generate_synset_df(root)"
   ]
  },
  {
   "cell_type": "code",
   "execution_count": 4,
   "metadata": {},
   "outputs": [
    {
     "data": {
      "text/plain": [
       "ind                                                             760\n",
       "hyponyms          [aardvark.n.01, aquatic_mammal.n.01, bat.n.01,...\n",
       "level                                                             0\n",
       "D                                                              True\n",
       "numeric_synset    [0, 52, 91, 170, 174, 198, 257, 284, 290, 319,...\n",
       "Name: placental.n.01, dtype: object"
      ]
     },
     "execution_count": 4,
     "metadata": {},
     "output_type": "execute_result"
    }
   ],
   "source": [
    "df.loc[synset_root]"
   ]
  },
  {
   "cell_type": "code",
   "execution_count": 5,
   "metadata": {},
   "outputs": [
    {
     "data": {
      "text/html": [
       "<div>\n",
       "<style scoped>\n",
       "    .dataframe tbody tr th:only-of-type {\n",
       "        vertical-align: middle;\n",
       "    }\n",
       "\n",
       "    .dataframe tbody tr th {\n",
       "        vertical-align: top;\n",
       "    }\n",
       "\n",
       "    .dataframe thead th {\n",
       "        text-align: right;\n",
       "    }\n",
       "</style>\n",
       "<table border=\"1\" class=\"dataframe\">\n",
       "  <thead>\n",
       "    <tr style=\"text-align: right;\">\n",
       "      <th></th>\n",
       "      <th>ind</th>\n",
       "      <th>hyponyms</th>\n",
       "      <th>level</th>\n",
       "      <th>D</th>\n",
       "      <th>numeric_synset</th>\n",
       "    </tr>\n",
       "    <tr>\n",
       "      <th>str_synset</th>\n",
       "      <th></th>\n",
       "      <th></th>\n",
       "      <th></th>\n",
       "      <th></th>\n",
       "      <th></th>\n",
       "    </tr>\n",
       "  </thead>\n",
       "  <tbody>\n",
       "    <tr>\n",
       "      <th>american_badger.n.01</th>\n",
       "      <td>20</td>\n",
       "      <td>None</td>\n",
       "      <td>4</td>\n",
       "      <td>False</td>\n",
       "      <td>None</td>\n",
       "    </tr>\n",
       "    <tr>\n",
       "      <th>american_bison.n.01</th>\n",
       "      <td>21</td>\n",
       "      <td>None</td>\n",
       "      <td>6</td>\n",
       "      <td>False</td>\n",
       "      <td>None</td>\n",
       "    </tr>\n",
       "    <tr>\n",
       "      <th>american_black_bear.n.01</th>\n",
       "      <td>22</td>\n",
       "      <td>[cinnamon_bear.n.01]</td>\n",
       "      <td>3</td>\n",
       "      <td>True</td>\n",
       "      <td>[228]</td>\n",
       "    </tr>\n",
       "    <tr>\n",
       "      <th>american_flying_squirrel.n.01</th>\n",
       "      <td>23</td>\n",
       "      <td>[northern_flying_squirrel.n.01, southern_flyin...</td>\n",
       "      <td>3</td>\n",
       "      <td>True</td>\n",
       "      <td>[693, 931]</td>\n",
       "    </tr>\n",
       "    <tr>\n",
       "      <th>american_foxhound.n.01</th>\n",
       "      <td>24</td>\n",
       "      <td>None</td>\n",
       "      <td>7</td>\n",
       "      <td>False</td>\n",
       "      <td>None</td>\n",
       "    </tr>\n",
       "  </tbody>\n",
       "</table>\n",
       "</div>"
      ],
      "text/plain": [
       "                               ind  \\\n",
       "str_synset                           \n",
       "american_badger.n.01            20   \n",
       "american_bison.n.01             21   \n",
       "american_black_bear.n.01        22   \n",
       "american_flying_squirrel.n.01   23   \n",
       "american_foxhound.n.01          24   \n",
       "\n",
       "                                                                        hyponyms  \\\n",
       "str_synset                                                                         \n",
       "american_badger.n.01                                                        None   \n",
       "american_bison.n.01                                                         None   \n",
       "american_black_bear.n.01                                    [cinnamon_bear.n.01]   \n",
       "american_flying_squirrel.n.01  [northern_flying_squirrel.n.01, southern_flyin...   \n",
       "american_foxhound.n.01                                                      None   \n",
       "\n",
       "                               level      D numeric_synset  \n",
       "str_synset                                                  \n",
       "american_badger.n.01               4  False           None  \n",
       "american_bison.n.01                6  False           None  \n",
       "american_black_bear.n.01           3   True          [228]  \n",
       "american_flying_squirrel.n.01      3   True     [693, 931]  \n",
       "american_foxhound.n.01             7  False           None  "
      ]
     },
     "execution_count": 5,
     "metadata": {},
     "output_type": "execute_result"
    }
   ],
   "source": [
    "df[20:25]"
   ]
  },
  {
   "cell_type": "code",
   "execution_count": 6,
   "metadata": {},
   "outputs": [],
   "source": [
    "D = generate_D(df)"
   ]
  },
  {
   "cell_type": "code",
   "execution_count": 7,
   "metadata": {},
   "outputs": [
    {
     "data": {
      "text/plain": [
       "[(22, [228]),\n",
       " (23, [693, 931]),\n",
       " (41, [40, 902, 982]),\n",
       " (42,\n",
       "  [5,\n",
       "   125,\n",
       "   137,\n",
       "   285,\n",
       "   321,\n",
       "   386,\n",
       "   392,\n",
       "   403,\n",
       "   458,\n",
       "   463,\n",
       "   505,\n",
       "   554,\n",
       "   658,\n",
       "   689,\n",
       "   712,\n",
       "   804,\n",
       "   858,\n",
       "   860,\n",
       "   870,\n",
       "   958,\n",
       "   1059]),\n",
       " (45, [417, 575]),\n",
       " (48, [45]),\n",
       " (52, [210, 755, 876]),\n",
       " (55, [130]),\n",
       " (58, [47, 395, 421, 736, 740, 748, 991]),\n",
       " (59, [383, 384]),\n",
       " (61, [978]),\n",
       " (63, [293, 518, 529, 1085]),\n",
       " (70, [71, 72, 73, 74, 733, 1118]),\n",
       " (78, [211, 301, 613]),\n",
       " (80, [20, 335, 357, 477]),\n",
       " (81, [132, 149, 428, 497, 840, 850]),\n",
       " (91, [199, 378]),\n",
       " (94, [144]),\n",
       " (95, [22, 60, 96, 163, 168, 503, 917]),\n",
       " (98, [682, 703]),\n",
       " (101, [2, 203, 214, 306, 382, 469, 597, 869]),\n",
       " (103, [435, 607]),\n",
       " (110, [215, 523, 570, 581, 583, 856, 923, 1002, 1006]),\n",
       " (115, [21, 1094]),\n",
       " (116, [160]),\n",
       " (145, [64, 722]),\n",
       " (147, [42, 115, 148, 368, 404, 405, 672, 704, 890, 1090]),\n",
       " (148, [152, 204, 717]),\n",
       " (152, [1117]),\n",
       " (159, [171]),\n",
       " (163, [16, 434, 975]),\n",
       " (166, [889, 1074]),\n",
       " (170, [950]),\n",
       " (173, [177]),\n",
       " (176, [375]),\n",
       " (179, [32, 949]),\n",
       " (187, [54, 79]),\n",
       " (190, [116, 291, 370, 499, 519, 1087, 1095]),\n",
       " (197, [87, 1102]),\n",
       " (198, [95, 190, 355, 362, 675, 796, 1040]),\n",
       " (199, [162, 374, 564, 630, 662, 1033, 1036]),\n",
       " (202, [294, 1091]),\n",
       " (204, [12, 101, 173, 178, 256, 274, 282, 414, 716, 828, 963, 1062]),\n",
       " (207, [49, 446]),\n",
       " (210, [1073]),\n",
       " (219, [537, 679, 1052]),\n",
       " (224, [209, 312, 806, 1068]),\n",
       " (229, [82, 113, 268, 351, 562, 728, 919]),\n",
       " (240, [443]),\n",
       " (249, [117, 248]),\n",
       " (250, [196, 741]),\n",
       " (256, [468, 944]),\n",
       " (260, [259]),\n",
       " (269, [354, 734]),\n",
       " (273, [871]),\n",
       " (274, [76, 167, 376, 444, 532, 641]),\n",
       " (276, [590]),\n",
       " (279,\n",
       "  [157,\n",
       "   197,\n",
       "   324,\n",
       "   348,\n",
       "   353,\n",
       "   525,\n",
       "   668,\n",
       "   669,\n",
       "   671,\n",
       "   744,\n",
       "   791,\n",
       "   825,\n",
       "   847,\n",
       "   864,\n",
       "   1038,\n",
       "   1046]),\n",
       " (288, [287]),\n",
       " (291,\n",
       "  [88,\n",
       "   250,\n",
       "   269,\n",
       "   276,\n",
       "   419,\n",
       "   430,\n",
       "   498,\n",
       "   560,\n",
       "   569,\n",
       "   639,\n",
       "   688,\n",
       "   781,\n",
       "   782,\n",
       "   803,\n",
       "   805,\n",
       "   937,\n",
       "   1013,\n",
       "   1108]),\n",
       " (292, [145, 242, 415, 546, 751, 785, 841, 1082]),\n",
       " (293, [182, 646]),\n",
       " (294,\n",
       "  [4,\n",
       "   18,\n",
       "   37,\n",
       "   181,\n",
       "   320,\n",
       "   551,\n",
       "   608,\n",
       "   617,\n",
       "   664,\n",
       "   745,\n",
       "   900,\n",
       "   976,\n",
       "   977,\n",
       "   1004,\n",
       "   1010,\n",
       "   1012]),\n",
       " (295, [35, 201]),\n",
       " (297, [156, 218, 251, 346, 452, 582, 599, 637, 818]),\n",
       " (298, [465, 574, 594]),\n",
       " (300, [200, 231, 233, 743, 772, 895, 1075]),\n",
       " (302, [854]),\n",
       " (310, [379, 380, 877]),\n",
       " (311, [97, 323, 455, 459, 487]),\n",
       " (319, [41, 58, 636, 676, 677, 916]),\n",
       " (321, [243, 396]),\n",
       " (322, [9, 409, 508, 610, 849]),\n",
       " (328, [128]),\n",
       " (332, [63, 471, 489, 667, 810, 1116]),\n",
       " (333, [964]),\n",
       " (344, [187, 472, 593, 737, 855, 974, 1037]),\n",
       " (350, [108]),\n",
       " (355, [110, 202]),\n",
       " (358, [343]),\n",
       " (367, [271]),\n",
       " (370, [55, 426, 549, 550, 826, 827, 834, 1041]),\n",
       " (372, [921, 1092]),\n",
       " (373, [24, 325, 1044]),\n",
       " (374, [441, 768]),\n",
       " (378, [272, 366, 460, 801, 802]),\n",
       " (379, [15]),\n",
       " (380, [439]),\n",
       " (386, [385, 943, 996]),\n",
       " (391, [533, 868, 985]),\n",
       " (401, [701]),\n",
       " (404, [112, 295, 545, 678, 1088]),\n",
       " (405, [212, 411, 656, 886, 980]),\n",
       " (410, [694, 761, 929, 1032]),\n",
       " (413, [316, 657, 907, 1070]),\n",
       " (417, [224, 413, 710]),\n",
       " (429, [517, 1076]),\n",
       " (430, [151]),\n",
       " (437, [43, 56, 365, 615, 845, 971]),\n",
       " (442, [423, 433, 981, 1035]),\n",
       " (445, [881]),\n",
       " (453, [336, 406]),\n",
       " (456, [338, 521, 579, 770, 924]),\n",
       " (457, [235, 450]),\n",
       " (458, [183, 698]),\n",
       " (476, [784]),\n",
       " (479, [70, 302, 481, 528, 759, 909, 910]),\n",
       " (480, [6, 17, 795]),\n",
       " (481, [482, 483, 484, 486, 681, 837, 1109]),\n",
       " (482, [527, 739]),\n",
       " (484, [142, 266, 485]),\n",
       " (486, [926]),\n",
       " (489,\n",
       "  [92,\n",
       "   217,\n",
       "   331,\n",
       "   387,\n",
       "   447,\n",
       "   448,\n",
       "   457,\n",
       "   591,\n",
       "   606,\n",
       "   621,\n",
       "   638,\n",
       "   720,\n",
       "   729,\n",
       "   757,\n",
       "   776,\n",
       "   778,\n",
       "   780,\n",
       "   786,\n",
       "   799,\n",
       "   816,\n",
       "   843,\n",
       "   859,\n",
       "   927,\n",
       "   948,\n",
       "   952,\n",
       "   959,\n",
       "   962,\n",
       "   1089,\n",
       "   1107]),\n",
       " (492,\n",
       "  [8,\n",
       "   90,\n",
       "   93,\n",
       "   129,\n",
       "   133,\n",
       "   135,\n",
       "   249,\n",
       "   373,\n",
       "   429,\n",
       "   461,\n",
       "   502,\n",
       "   695,\n",
       "   715,\n",
       "   764,\n",
       "   831,\n",
       "   863,\n",
       "   875,\n",
       "   951,\n",
       "   1061,\n",
       "   1097]),\n",
       " (498, [255, 273, 492, 838, 938, 995]),\n",
       " (499, [1, 164, 939, 966]),\n",
       " (500, [844]),\n",
       " (508, [1080]),\n",
       " (512, [467, 647, 714, 897, 994]),\n",
       " (521, [126, 1079]),\n",
       " (530, [522, 1025]),\n",
       " (531, [539]),\n",
       " (534, [632]),\n",
       " (540, [711]),\n",
       " (554, [420, 576]),\n",
       " (557, [305, 573, 750]),\n",
       " (559, [329]),\n",
       " (564, [350, 478, 490, 491, 602, 709, 747, 934]),\n",
       " (567, [165, 339, 427, 692, 749, 930]),\n",
       " (568, [38, 75, 381, 511, 603, 787, 915, 918, 1103]),\n",
       " (570, [572, 731]),\n",
       " (573, [456, 812]),\n",
       " (575, [400, 899]),\n",
       " (583, [584, 585, 586]),\n",
       " (593, [19, 296, 440]),\n",
       " (595, [1067]),\n",
       " (600, [136, 188, 195, 244, 940]),\n",
       " (601, [85, 138, 263, 835]),\n",
       " (606, [388, 953]),\n",
       " (610, [241, 506, 1104]),\n",
       " (612, [1014]),\n",
       " (621, [161]),\n",
       " (624, [807, 984, 1021]),\n",
       " (625, [438, 474, 1114]),\n",
       " (627, [26, 361, 753, 857, 965, 1113]),\n",
       " (629, [1000]),\n",
       " (631, [27]),\n",
       " (635, [914, 970]),\n",
       " (636, [436]),\n",
       " (645, [28]),\n",
       " (647, [153, 407, 898, 956]),\n",
       " (650, [504, 509]),\n",
       " (651, [684, 706]),\n",
       " (660, [111, 653]),\n",
       " (663, [358, 464, 493, 697, 1099]),\n",
       " (666, [922, 967, 1119]),\n",
       " (668, [119]),\n",
       " (674, [159]),\n",
       " (675,\n",
       "  [80, 118, 402, 432, 627, 645, 713, 773, 821, 878, 911, 992, 1060, 1098]),\n",
       " (677, [618]),\n",
       " (684, [192, 299, 495, 624, 862, 936, 947, 1009, 1026, 1105]),\n",
       " (685, [25]),\n",
       " (686, [189]),\n",
       " (700, [332, 836, 986]),\n",
       " (704, [39, 191, 983, 1051]),\n",
       " (706, [78, 240, 442, 559, 601, 614, 735, 794]),\n",
       " (707, [169, 596]),\n",
       " (708, [222]),\n",
       " (712, [389]),\n",
       " (713, [337, 842]),\n",
       " (717, [59, 67, 84, 1110]),\n",
       " (721, [322]),\n",
       " (725, [308]),\n",
       " (737, [220, 237, 1078]),\n",
       " (749, [496]),\n",
       " (750, [238, 589]),\n",
       " (755, [879, 1045]),\n",
       " (756, [7, 289, 642]),\n",
       " (760,\n",
       "  [0,\n",
       "   52,\n",
       "   91,\n",
       "   170,\n",
       "   174,\n",
       "   198,\n",
       "   257,\n",
       "   284,\n",
       "   290,\n",
       "   319,\n",
       "   363,\n",
       "   367,\n",
       "   500,\n",
       "   512,\n",
       "   557,\n",
       "   592,\n",
       "   721,\n",
       "   730,\n",
       "   763,\n",
       "   792,\n",
       "   793,\n",
       "   846,\n",
       "   1018,\n",
       "   1027,\n",
       "   1028,\n",
       "   1029,\n",
       "   1030,\n",
       "   1112]),\n",
       " (766, [473, 640, 762, 903]),\n",
       " (767, [410, 538, 540, 766]),\n",
       " (769, [394, 1042]),\n",
       " (773, [356]),\n",
       " (778, [208, 674]),\n",
       " (780, [347, 892, 1063]),\n",
       " (782, [563, 643, 954, 1015]),\n",
       " (783, [686, 707]),\n",
       " (785, [454, 1034]),\n",
       " (788, [127, 1084]),\n",
       " (792, [44, 48, 479, 480, 568, 651, 798, 908, 988]),\n",
       " (793, [322, 631]),\n",
       " (796, [89, 234, 397, 548, 577, 814]),\n",
       " (812, [36, 102, 180, 340, 561, 813, 1100]),\n",
       " (814, [245, 264]),\n",
       " (816, [278, 665, 690, 719, 779, 997, 999, 1020, 1024, 1111]),\n",
       " (819, [83, 121, 166, 531, 767, 839]),\n",
       " (820, [612]),\n",
       " (825, [158, 462, 470]),\n",
       " (827, [120, 906]),\n",
       " (833, [216, 270, 364, 408, 556]),\n",
       " (836, [122, 510, 1081, 1106]),\n",
       " (846,\n",
       "  [3,\n",
       "   13,\n",
       "   98,\n",
       "   193,\n",
       "   207,\n",
       "   225,\n",
       "   253,\n",
       "   261,\n",
       "   298,\n",
       "   391,\n",
       "   453,\n",
       "   530,\n",
       "   534,\n",
       "   567,\n",
       "   619,\n",
       "   625,\n",
       "   648,\n",
       "   649,\n",
       "   654,\n",
       "   655,\n",
       "   659,\n",
       "   663,\n",
       "   670,\n",
       "   673,\n",
       "   685,\n",
       "   718,\n",
       "   783,\n",
       "   788,\n",
       "   819,\n",
       "   852,\n",
       "   867,\n",
       "   946,\n",
       "   1039,\n",
       "   1054,\n",
       "   1101]),\n",
       " (847, [848]),\n",
       " (850, [360, 578, 882]),\n",
       " (855, [147, 219, 279, 401, 775, 797]),\n",
       " (856, [349, 920]),\n",
       " (859,\n",
       "  [30,\n",
       "   50,\n",
       "   53,\n",
       "   172,\n",
       "   258,\n",
       "   267,\n",
       "   304,\n",
       "   425,\n",
       "   449,\n",
       "   587,\n",
       "   652,\n",
       "   726,\n",
       "   790,\n",
       "   811,\n",
       "   832,\n",
       "   993,\n",
       "   1047]),\n",
       " (873, [398, 644, 955]),\n",
       " (876, [303, 611, 960]),\n",
       " (877, [68, 186, 928, 961]),\n",
       " (879, [265, 310, 311]),\n",
       " (884, [51, 106, 330, 422]),\n",
       " (888, [326, 412, 513]),\n",
       " (890, [123, 297, 345, 817, 1072]),\n",
       " (891, [103, 139, 146, 154, 239, 393, 542, 553, 702, 851, 893]),\n",
       " (897, [246, 565, 628, 896, 1055]),\n",
       " (898, [31, 62]),\n",
       " (900, [131]),\n",
       " (911, [475, 488, 941, 968]),\n",
       " (912, [232]),\n",
       " (913, [604, 901]),\n",
       " (916, [998, 1022, 1023]),\n",
       " (933, [155, 230, 236, 359, 945, 972, 1056]),\n",
       " (937, [227, 541, 777, 865]),\n",
       " (938, [114, 431, 769, 833, 888, 933, 1053]),\n",
       " (945, [327, 1064]),\n",
       " (946, [23, 61, 86, 226, 313, 437, 1019]),\n",
       " (950, [853]),\n",
       " (953, [969]),\n",
       " (974, [77, 134, 476, 822, 932, 1049, 1086]),\n",
       " (984, [752, 904]),\n",
       " (986, [605, 687]),\n",
       " (988, [989, 990]),\n",
       " (994, [979]),\n",
       " (995,\n",
       "  [14,\n",
       "   69,\n",
       "   100,\n",
       "   140,\n",
       "   143,\n",
       "   179,\n",
       "   185,\n",
       "   277,\n",
       "   372,\n",
       "   514,\n",
       "   543,\n",
       "   580,\n",
       "   691,\n",
       "   696,\n",
       "   820,\n",
       "   873,\n",
       "   874,\n",
       "   905,\n",
       "   912,\n",
       "   925,\n",
       "   1001,\n",
       "   1066,\n",
       "   1093,\n",
       "   1115]),\n",
       " (1002, [105, 1005, 1007]),\n",
       " (1010, [399]),\n",
       " (1011, [94, 292, 309, 809, 935]),\n",
       " (1013, [223, 526, 609, 738, 894, 1016, 1017]),\n",
       " (1016, [328, 547, 732]),\n",
       " (1018, [742]),\n",
       " (1019, [29, 124, 221, 315, 371, 829, 1069]),\n",
       " (1020, [771]),\n",
       " (1030, [288, 344, 700]),\n",
       " (1033, [281, 451]),\n",
       " (1036, [109, 206, 317, 377, 520, 588, 595, 727, 758, 824, 885, 1071]),\n",
       " (1040, [229, 369, 390, 635, 650]),\n",
       " (1043, [416, 633, 746, 754, 789, 823, 1057, 1058]),\n",
       " (1045, [65, 723]),\n",
       " (1047, [205, 213, 957]),\n",
       " (1050, [66, 494, 555, 756, 872]),\n",
       " (1051, [194, 507]),\n",
       " (1054, [99]),\n",
       " (1055, [33, 341, 634]),\n",
       " (1056, [34, 515]),\n",
       " (1059, [552, 566]),\n",
       " (1060, [333, 598, 666, 683, 705]),\n",
       " (1065, [880]),\n",
       " (1072, [104]),\n",
       " (1073, [81, 680, 942, 1011]),\n",
       " (1085, [11, 544, 708]),\n",
       " (1087, [10, 262, 283, 286, 815]),\n",
       " (1088, [107, 501, 623]),\n",
       " (1089, [800, 987, 1048]),\n",
       " (1090, [46, 57, 275, 620, 660, 1031]),\n",
       " (1091, [254, 342, 524, 535, 536, 571, 600, 616, 622, 699, 866, 887, 1003]),\n",
       " (1093, [558, 1065]),\n",
       " (1095, [260, 830, 1008, 1083, 1096]),\n",
       " (1097, [141, 516]),\n",
       " (1099, [184, 252, 280, 808, 1077]),\n",
       " (1100, [314, 626, 973]),\n",
       " (1101, [307, 318, 725, 1043]),\n",
       " (1107, [300, 352, 724, 765]),\n",
       " (1108,\n",
       "  [150,\n",
       "   175,\n",
       "   176,\n",
       "   334,\n",
       "   418,\n",
       "   445,\n",
       "   466,\n",
       "   629,\n",
       "   774,\n",
       "   861,\n",
       "   883,\n",
       "   884,\n",
       "   891,\n",
       "   913,\n",
       "   1050]),\n",
       " (1116, [247, 424, 661])]"
      ]
     },
     "execution_count": 7,
     "metadata": {},
     "output_type": "execute_result"
    }
   ],
   "source": [
    "D"
   ]
  },
  {
   "cell_type": "code",
   "execution_count": 8,
   "metadata": {},
   "outputs": [
    {
     "data": {
      "text/plain": [
       "275"
      ]
     },
     "execution_count": 8,
     "metadata": {},
     "output_type": "execute_result"
    }
   ],
   "source": [
    "len(D)"
   ]
  },
  {
   "cell_type": "markdown",
   "metadata": {},
   "source": [
    "### 1.4 Optimization: Loss, Gradient, and RSGD"
   ]
  },
  {
   "cell_type": "code",
   "execution_count": 20,
   "metadata": {},
   "outputs": [],
   "source": [
    "import numpy as np\n",
    "# torch.autograd.set_detect_anomaly(True)\n",
    "n_features = 2\n",
    "scale = 0.1\n",
    "n_points = df.shape[0]\n",
    "x_tmp = scale * (2*np.random.rand(n_points,n_features) - 1)\n",
    "x = torch.tensor(x_tmp, requires_grad = True)"
   ]
  },
  {
   "cell_type": "code",
   "execution_count": 21,
   "metadata": {},
   "outputs": [
    {
     "data": {
      "image/png": "[encoded data removed]",
      "text/plain": [
       "<Figure size 720x720 with 1 Axes>"
      ]
     },
     "metadata": {
      "needs_background": "light"
     },
     "output_type": "display_data"
    }
   ],
   "source": [
    "import matplotlib.pyplot as plt\n",
    "import matplotlib.patches as pt\n",
    "from ipywidgets import interact\n",
    "import ipywidgets as widgets\n",
    "\n",
    "def plot_x(x):\n",
    "    fig, ax = plt.subplots(figsize=(10, 10))\n",
    "    circle = pt.Circle((0, 0), 1, facecolor='none', edgecolor=(0, 0, 0), linewidth=3, alpha=0.5)\n",
    "    ax.add_patch(circle)\n",
    "    plt.scatter(x[:,0], x[:,1], s=1)\n",
    "    plt.title(\"Hyperbolic Embedding of WordNet Synsets in the Poincare Ball\")\n",
    "    plt.show()\n",
    "\n",
    "    \n",
    "# f = lambda t: plot_x(x = xts[t])\n",
    "# interact(f,t = widgets.IntSlider(min = 0, max = len(xts)-1, step = 1, continuous_update = False));\n",
    "\n",
    "plot_x(x.detach().numpy())\n",
    "plt.show()"
   ]
  },
  {
   "cell_type": "markdown",
   "metadata": {},
   "source": [
    "# Visualize the Embeddings Throughout the Optimization Process"
   ]
  },
  {
   "cell_type": "code",
   "execution_count": 22,
   "metadata": {},
   "outputs": [],
   "source": [
    "import torch.optim as optim\n",
    "from optimization import L"
   ]
  },
  {
   "cell_type": "code",
   "execution_count": 28,
   "metadata": {},
   "outputs": [],
   "source": [
    "def proj(x, epsilon = 1e-7):\n",
    "    \"\"\"Rescale the point to ensure that it lies within the Poincare Ball.\"\"\"\n",
    "    norm_x = torch.linalg.norm(x, axis = 1, keepdims = True)\n",
    "    return torch.where(norm_x >= 1, x / (norm_x + epsilon), x)"
   ]
  },
  {
   "cell_type": "code",
   "execution_count": 29,
   "metadata": {},
   "outputs": [],
   "source": [
    "# issue in last term of denominators: nan"
   ]
  },
  {
   "cell_type": "code",
   "execution_count": 30,
   "metadata": {},
   "outputs": [],
   "source": [
    "# x0 = x.detach()"
   ]
  },
  {
   "cell_type": "code",
   "execution_count": null,
   "metadata": {
    "scrolled": false
   },
   "outputs": [
    {
     "name": "stdout",
     "output_type": "stream",
     "text": [
      "tensor(0.3614, dtype=torch.float64, grad_fn=<DivBackward0>)\n",
      "tensor(0.3538, dtype=torch.float64, grad_fn=<DivBackward0>)\n"
     ]
    }
   ],
   "source": [
    "lr = 1e-4\n",
    "epsilon = 1e-8\n",
    "n_iter = 100\n",
    "n_neg_samples = 10\n",
    "custom_descent = False\n",
    "optim = torch.optim.Adam([x], lr=lr)\n",
    "\n",
    "for i in range(n_iter):\n",
    "    Nu = generate_Nu(D,n_neg_samples)\n",
    "#     import pdb; pdb.set_trace()\n",
    "    \n",
    "    loss = 0\n",
    "    n_features = x.shape[-1]\n",
    "    for (u_ind, v_inds) in D:\n",
    "        u = x[u_ind,:].reshape(1,n_features)\n",
    "        vs = x[v_inds,:].reshape(len(v_inds),n_features)\n",
    "        # Numerator: Positive Pairs\n",
    "        numerators = torch.log(torch.exp(-geom.d(u,vs,epsilon)))\n",
    "\n",
    "        # Denominator: Negative Pairs\n",
    "        vp_inds_lists = Nu[u_ind]\n",
    "        vp_x = x[vp_inds_lists,:]\n",
    "        denominators = torch.stack([torch.logsumexp(-geom.d(u,vi,epsilon),dim = 0) for vi in vp_x])\n",
    "#         denominators = torch.stack([torch.sum(exp_d(u,vi)) for vi in vp_x])\n",
    "        # Loss for this u: set of (u,[v1,v2,...,vn])\n",
    "#         print(torch.isinf(denominators).any())\n",
    "        L_u = torch.sum(numerators / denominators)\n",
    "        \n",
    "        # switch loss to -loss\n",
    "        loss -= L_u\n",
    "        \n",
    "    loss/=len(D)\n",
    "    optim.zero_grad()\n",
    "    loss.backward()\n",
    "    if custom_descent:\n",
    "        with torch.no_grad():\n",
    "            g_pb_inv = ((1 - torch.linalg.norm(x,axis = 1)**2)**2)/4\n",
    "            x.sub_(lr*g_pb_inv.unsqueeze(1)*x.grad)\n",
    "            x.copy_(proj(x))\n",
    "    else:\n",
    "        optim.step()\n",
    "# FIND NAN / INF explosions\n",
    "#     with torch.no_grad():\n",
    "#         norm_x = torch.linalg.norm(x, axis = 1, keepdims = True)\n",
    "#         x = torch.where(norm_x >= 1, x / (norm_x + epsilon), x)\n",
    "    if i % (n_iter//10) == 0:\n",
    "        print(loss)"
   ]
  },
  {
   "cell_type": "code",
   "execution_count": 18,
   "metadata": {},
   "outputs": [
    {
     "data": {
      "text/plain": [
       "tensor(39.4633, dtype=torch.float64, grad_fn=<SubBackward0>)"
      ]
     },
     "execution_count": 18,
     "metadata": {},
     "output_type": "execute_result"
    }
   ],
   "source": [
    "loss\n",
    "\n"
   ]
  },
  {
   "cell_type": "code",
   "execution_count": 19,
   "metadata": {},
   "outputs": [
    {
     "data": {
      "image/png": "[encoded data removed]",
      "text/plain": [
       "<Figure size 720x720 with 1 Axes>"
      ]
     },
     "metadata": {
      "needs_background": "light"
     },
     "output_type": "display_data"
    }
   ],
   "source": [
    "plot_x(x.detach().numpy(),df)"
   ]
  },
  {
   "cell_type": "markdown",
   "metadata": {},
   "source": [
    "--------------\n",
    "--------------"
   ]
  },
  {
   "cell_type": "markdown",
   "metadata": {},
   "source": [
    "THE SCRAPS BELOW"
   ]
  },
  {
   "cell_type": "code",
   "execution_count": 51,
   "metadata": {},
   "outputs": [
    {
     "data": {
      "text/plain": [
       "tensor([], size=(0, 2), dtype=torch.float64, grad_fn=<IndexBackward>)"
      ]
     },
     "execution_count": 51,
     "metadata": {},
     "output_type": "execute_result"
    }
   ],
   "source": [
    "x[torch.linalg.norm(x,axis=1) >= 0.386]"
   ]
  },
  {
   "cell_type": "code",
   "execution_count": 170,
   "metadata": {},
   "outputs": [
    {
     "name": "stdout",
     "output_type": "stream",
     "text": [
      "195\n"
     ]
    }
   ],
   "source": [
    "for i,xi in enumerate(x):\n",
    "#     print(xi)\n",
    "    if torch.linalg.norm(xi) >= 0.386:\n",
    "        print(i)"
   ]
  },
  {
   "cell_type": "code",
   "execution_count": 174,
   "metadata": {},
   "outputs": [
    {
     "data": {
      "text/html": [
       "<div>\n",
       "<style scoped>\n",
       "    .dataframe tbody tr th:only-of-type {\n",
       "        vertical-align: middle;\n",
       "    }\n",
       "\n",
       "    .dataframe tbody tr th {\n",
       "        vertical-align: top;\n",
       "    }\n",
       "\n",
       "    .dataframe thead th {\n",
       "        text-align: right;\n",
       "    }\n",
       "</style>\n",
       "<table border=\"1\" class=\"dataframe\">\n",
       "  <thead>\n",
       "    <tr style=\"text-align: right;\">\n",
       "      <th></th>\n",
       "      <th>ind</th>\n",
       "      <th>hyponyms</th>\n",
       "      <th>level</th>\n",
       "      <th>D</th>\n",
       "      <th>numeric_synset</th>\n",
       "    </tr>\n",
       "    <tr>\n",
       "      <th>str_synset</th>\n",
       "      <th></th>\n",
       "      <th></th>\n",
       "      <th></th>\n",
       "      <th></th>\n",
       "      <th></th>\n",
       "    </tr>\n",
       "  </thead>\n",
       "  <tbody>\n",
       "    <tr>\n",
       "      <th>aardwolf.n.01</th>\n",
       "      <td>0</td>\n",
       "      <td>None</td>\n",
       "      <td>2</td>\n",
       "      <td>False</td>\n",
       "      <td>None</td>\n",
       "    </tr>\n",
       "    <tr>\n",
       "      <th>affenpinscher.n.01</th>\n",
       "      <td>1</td>\n",
       "      <td>None</td>\n",
       "      <td>5</td>\n",
       "      <td>False</td>\n",
       "      <td>None</td>\n",
       "    </tr>\n",
       "    <tr>\n",
       "      <th>afghan_hound.n.01</th>\n",
       "      <td>2</td>\n",
       "      <td>None</td>\n",
       "      <td>4</td>\n",
       "      <td>False</td>\n",
       "      <td>None</td>\n",
       "    </tr>\n",
       "    <tr>\n",
       "      <th>african_hunting_dog.n.01</th>\n",
       "      <td>3</td>\n",
       "      <td>None</td>\n",
       "      <td>2</td>\n",
       "      <td>False</td>\n",
       "      <td>None</td>\n",
       "    </tr>\n",
       "    <tr>\n",
       "      <th>airedale.n.01</th>\n",
       "      <td>4</td>\n",
       "      <td>None</td>\n",
       "      <td>4</td>\n",
       "      <td>False</td>\n",
       "      <td>None</td>\n",
       "    </tr>\n",
       "    <tr>\n",
       "      <th>american_foxhound.n.01</th>\n",
       "      <td>5</td>\n",
       "      <td>None</td>\n",
       "      <td>5</td>\n",
       "      <td>False</td>\n",
       "      <td>None</td>\n",
       "    </tr>\n",
       "    <tr>\n",
       "      <th>american_staffordshire_terrier.n.01</th>\n",
       "      <td>6</td>\n",
       "      <td>None</td>\n",
       "      <td>5</td>\n",
       "      <td>False</td>\n",
       "      <td>None</td>\n",
       "    </tr>\n",
       "    <tr>\n",
       "      <th>american_water_spaniel.n.01</th>\n",
       "      <td>7</td>\n",
       "      <td>None</td>\n",
       "      <td>6</td>\n",
       "      <td>False</td>\n",
       "      <td>None</td>\n",
       "    </tr>\n",
       "    <tr>\n",
       "      <th>appenzeller.n.01</th>\n",
       "      <td>8</td>\n",
       "      <td>None</td>\n",
       "      <td>4</td>\n",
       "      <td>False</td>\n",
       "      <td>None</td>\n",
       "    </tr>\n",
       "    <tr>\n",
       "      <th>arctic_fox.n.01</th>\n",
       "      <td>9</td>\n",
       "      <td>[blue_fox.n.01]</td>\n",
       "      <td>2</td>\n",
       "      <td>True</td>\n",
       "      <td>[24]</td>\n",
       "    </tr>\n",
       "    <tr>\n",
       "      <th>attack_dog.n.01</th>\n",
       "      <td>10</td>\n",
       "      <td>None</td>\n",
       "      <td>4</td>\n",
       "      <td>False</td>\n",
       "      <td>None</td>\n",
       "    </tr>\n",
       "    <tr>\n",
       "      <th>australian_terrier.n.01</th>\n",
       "      <td>11</td>\n",
       "      <td>None</td>\n",
       "      <td>4</td>\n",
       "      <td>False</td>\n",
       "      <td>None</td>\n",
       "    </tr>\n",
       "    <tr>\n",
       "      <th>basenji.n.01</th>\n",
       "      <td>12</td>\n",
       "      <td>None</td>\n",
       "      <td>2</td>\n",
       "      <td>False</td>\n",
       "      <td>None</td>\n",
       "    </tr>\n",
       "    <tr>\n",
       "      <th>basset.n.01</th>\n",
       "      <td>13</td>\n",
       "      <td>None</td>\n",
       "      <td>4</td>\n",
       "      <td>False</td>\n",
       "      <td>None</td>\n",
       "    </tr>\n",
       "    <tr>\n",
       "      <th>beagle.n.01</th>\n",
       "      <td>14</td>\n",
       "      <td>None</td>\n",
       "      <td>4</td>\n",
       "      <td>False</td>\n",
       "      <td>None</td>\n",
       "    </tr>\n",
       "    <tr>\n",
       "      <th>bedlington_terrier.n.01</th>\n",
       "      <td>15</td>\n",
       "      <td>None</td>\n",
       "      <td>4</td>\n",
       "      <td>False</td>\n",
       "      <td>None</td>\n",
       "    </tr>\n",
       "    <tr>\n",
       "      <th>belgian_sheepdog.n.01</th>\n",
       "      <td>16</td>\n",
       "      <td>[groenendael.n.01, malinois.n.01]</td>\n",
       "      <td>4</td>\n",
       "      <td>True</td>\n",
       "      <td>[92, 124]</td>\n",
       "    </tr>\n",
       "    <tr>\n",
       "      <th>bernese_mountain_dog.n.01</th>\n",
       "      <td>17</td>\n",
       "      <td>None</td>\n",
       "      <td>4</td>\n",
       "      <td>False</td>\n",
       "      <td>None</td>\n",
       "    </tr>\n",
       "    <tr>\n",
       "      <th>bird_dog.n.01</th>\n",
       "      <td>18</td>\n",
       "      <td>None</td>\n",
       "      <td>4</td>\n",
       "      <td>False</td>\n",
       "      <td>None</td>\n",
       "    </tr>\n",
       "    <tr>\n",
       "      <th>bitch.n.04</th>\n",
       "      <td>19</td>\n",
       "      <td>[brood_bitch.n.01]</td>\n",
       "      <td>1</td>\n",
       "      <td>True</td>\n",
       "      <td>[36]</td>\n",
       "    </tr>\n",
       "    <tr>\n",
       "      <th>black-and-tan_coonhound.n.01</th>\n",
       "      <td>20</td>\n",
       "      <td>None</td>\n",
       "      <td>5</td>\n",
       "      <td>False</td>\n",
       "      <td>None</td>\n",
       "    </tr>\n",
       "    <tr>\n",
       "      <th>black_fox.n.01</th>\n",
       "      <td>21</td>\n",
       "      <td>None</td>\n",
       "      <td>3</td>\n",
       "      <td>False</td>\n",
       "      <td>None</td>\n",
       "    </tr>\n",
       "    <tr>\n",
       "      <th>blenheim_spaniel.n.01</th>\n",
       "      <td>22</td>\n",
       "      <td>None</td>\n",
       "      <td>5</td>\n",
       "      <td>False</td>\n",
       "      <td>None</td>\n",
       "    </tr>\n",
       "    <tr>\n",
       "      <th>bloodhound.n.01</th>\n",
       "      <td>23</td>\n",
       "      <td>None</td>\n",
       "      <td>4</td>\n",
       "      <td>False</td>\n",
       "      <td>None</td>\n",
       "    </tr>\n",
       "    <tr>\n",
       "      <th>blue_fox.n.01</th>\n",
       "      <td>24</td>\n",
       "      <td>None</td>\n",
       "      <td>3</td>\n",
       "      <td>False</td>\n",
       "      <td>None</td>\n",
       "    </tr>\n",
       "    <tr>\n",
       "      <th>bluetick.n.01</th>\n",
       "      <td>25</td>\n",
       "      <td>None</td>\n",
       "      <td>4</td>\n",
       "      <td>False</td>\n",
       "      <td>None</td>\n",
       "    </tr>\n",
       "    <tr>\n",
       "      <th>boarhound.n.01</th>\n",
       "      <td>26</td>\n",
       "      <td>None</td>\n",
       "      <td>4</td>\n",
       "      <td>False</td>\n",
       "      <td>None</td>\n",
       "    </tr>\n",
       "    <tr>\n",
       "      <th>border_collie.n.01</th>\n",
       "      <td>27</td>\n",
       "      <td>None</td>\n",
       "      <td>4</td>\n",
       "      <td>False</td>\n",
       "      <td>None</td>\n",
       "    </tr>\n",
       "    <tr>\n",
       "      <th>border_terrier.n.01</th>\n",
       "      <td>28</td>\n",
       "      <td>None</td>\n",
       "      <td>4</td>\n",
       "      <td>False</td>\n",
       "      <td>None</td>\n",
       "    </tr>\n",
       "    <tr>\n",
       "      <th>borzoi.n.01</th>\n",
       "      <td>29</td>\n",
       "      <td>None</td>\n",
       "      <td>5</td>\n",
       "      <td>False</td>\n",
       "      <td>None</td>\n",
       "    </tr>\n",
       "    <tr>\n",
       "      <th>...</th>\n",
       "      <td>...</td>\n",
       "      <td>...</td>\n",
       "      <td>...</td>\n",
       "      <td>...</td>\n",
       "      <td>...</td>\n",
       "    </tr>\n",
       "    <tr>\n",
       "      <th>sussex_spaniel.n.01</th>\n",
       "      <td>194</td>\n",
       "      <td>None</td>\n",
       "      <td>5</td>\n",
       "      <td>False</td>\n",
       "      <td>None</td>\n",
       "    </tr>\n",
       "    <tr>\n",
       "      <th>terrier.n.01</th>\n",
       "      <td>195</td>\n",
       "      <td>[airedale.n.01, australian_terrier.n.01, bedli...</td>\n",
       "      <td>3</td>\n",
       "      <td>True</td>\n",
       "      <td>[4, 11, 15, 28, 30, 40, 41, 62, 77, 102, 110, ...</td>\n",
       "    </tr>\n",
       "    <tr>\n",
       "      <th>tibetan_mastiff.n.01</th>\n",
       "      <td>196</td>\n",
       "      <td>None</td>\n",
       "      <td>4</td>\n",
       "      <td>False</td>\n",
       "      <td>None</td>\n",
       "    </tr>\n",
       "    <tr>\n",
       "      <th>tibetan_terrier.n.01</th>\n",
       "      <td>197</td>\n",
       "      <td>None</td>\n",
       "      <td>4</td>\n",
       "      <td>False</td>\n",
       "      <td>None</td>\n",
       "    </tr>\n",
       "    <tr>\n",
       "      <th>timber_wolf.n.01</th>\n",
       "      <td>198</td>\n",
       "      <td>None</td>\n",
       "      <td>2</td>\n",
       "      <td>False</td>\n",
       "      <td>None</td>\n",
       "    </tr>\n",
       "    <tr>\n",
       "      <th>toy_dog.n.01</th>\n",
       "      <td>199</td>\n",
       "      <td>[chihuahua.n.03, japanese_spaniel.n.01, maltes...</td>\n",
       "      <td>2</td>\n",
       "      <td>True</td>\n",
       "      <td>[45, 107, 125, 140, 176, 202, 203]</td>\n",
       "    </tr>\n",
       "    <tr>\n",
       "      <th>toy_manchester.n.01</th>\n",
       "      <td>200</td>\n",
       "      <td>None</td>\n",
       "      <td>6</td>\n",
       "      <td>False</td>\n",
       "      <td>None</td>\n",
       "    </tr>\n",
       "    <tr>\n",
       "      <th>toy_poodle.n.01</th>\n",
       "      <td>201</td>\n",
       "      <td>None</td>\n",
       "      <td>3</td>\n",
       "      <td>False</td>\n",
       "      <td>None</td>\n",
       "    </tr>\n",
       "    <tr>\n",
       "      <th>toy_spaniel.n.01</th>\n",
       "      <td>202</td>\n",
       "      <td>[english_toy_spaniel.n.01, king_charles_spanie...</td>\n",
       "      <td>3</td>\n",
       "      <td>True</td>\n",
       "      <td>[70, 111, 138]</td>\n",
       "    </tr>\n",
       "    <tr>\n",
       "      <th>toy_terrier.n.01</th>\n",
       "      <td>203</td>\n",
       "      <td>None</td>\n",
       "      <td>3</td>\n",
       "      <td>False</td>\n",
       "      <td>None</td>\n",
       "    </tr>\n",
       "    <tr>\n",
       "      <th>vixen.n.02</th>\n",
       "      <td>204</td>\n",
       "      <td>None</td>\n",
       "      <td>2</td>\n",
       "      <td>False</td>\n",
       "      <td>None</td>\n",
       "    </tr>\n",
       "    <tr>\n",
       "      <th>vizsla.n.01</th>\n",
       "      <td>205</td>\n",
       "      <td>None</td>\n",
       "      <td>5</td>\n",
       "      <td>False</td>\n",
       "      <td>None</td>\n",
       "    </tr>\n",
       "    <tr>\n",
       "      <th>walker_hound.n.01</th>\n",
       "      <td>206</td>\n",
       "      <td>None</td>\n",
       "      <td>5</td>\n",
       "      <td>False</td>\n",
       "      <td>None</td>\n",
       "    </tr>\n",
       "    <tr>\n",
       "      <th>watchdog.n.02</th>\n",
       "      <td>207</td>\n",
       "      <td>[attack_dog.n.01, housedog.n.01, kuvasz.n.01, ...</td>\n",
       "      <td>3</td>\n",
       "      <td>True</td>\n",
       "      <td>[10, 97, 115, 142, 165]</td>\n",
       "    </tr>\n",
       "    <tr>\n",
       "      <th>water_dog.n.02</th>\n",
       "      <td>208</td>\n",
       "      <td>None</td>\n",
       "      <td>4</td>\n",
       "      <td>False</td>\n",
       "      <td>None</td>\n",
       "    </tr>\n",
       "    <tr>\n",
       "      <th>water_spaniel.n.01</th>\n",
       "      <td>209</td>\n",
       "      <td>[american_water_spaniel.n.01, irish_water_span...</td>\n",
       "      <td>5</td>\n",
       "      <td>True</td>\n",
       "      <td>[7, 103]</td>\n",
       "    </tr>\n",
       "    <tr>\n",
       "      <th>weimaraner.n.01</th>\n",
       "      <td>210</td>\n",
       "      <td>None</td>\n",
       "      <td>4</td>\n",
       "      <td>False</td>\n",
       "      <td>None</td>\n",
       "    </tr>\n",
       "    <tr>\n",
       "      <th>welsh_springer_spaniel.n.01</th>\n",
       "      <td>211</td>\n",
       "      <td>None</td>\n",
       "      <td>6</td>\n",
       "      <td>False</td>\n",
       "      <td>None</td>\n",
       "    </tr>\n",
       "    <tr>\n",
       "      <th>welsh_terrier.n.01</th>\n",
       "      <td>212</td>\n",
       "      <td>[sealyham_terrier.n.01]</td>\n",
       "      <td>5</td>\n",
       "      <td>True</td>\n",
       "      <td>[169]</td>\n",
       "    </tr>\n",
       "    <tr>\n",
       "      <th>west_highland_white_terrier.n.01</th>\n",
       "      <td>213</td>\n",
       "      <td>None</td>\n",
       "      <td>4</td>\n",
       "      <td>False</td>\n",
       "      <td>None</td>\n",
       "    </tr>\n",
       "    <tr>\n",
       "      <th>whippet.n.01</th>\n",
       "      <td>214</td>\n",
       "      <td>None</td>\n",
       "      <td>5</td>\n",
       "      <td>False</td>\n",
       "      <td>None</td>\n",
       "    </tr>\n",
       "    <tr>\n",
       "      <th>white_wolf.n.01</th>\n",
       "      <td>215</td>\n",
       "      <td>None</td>\n",
       "      <td>2</td>\n",
       "      <td>False</td>\n",
       "      <td>None</td>\n",
       "    </tr>\n",
       "    <tr>\n",
       "      <th>wild_dog.n.01</th>\n",
       "      <td>216</td>\n",
       "      <td>[african_hunting_dog.n.01, crab-eating_dog.n.0...</td>\n",
       "      <td>1</td>\n",
       "      <td>True</td>\n",
       "      <td>[3, 57, 63, 64, 151]</td>\n",
       "    </tr>\n",
       "    <tr>\n",
       "      <th>wire-haired_fox_terrier.n.01</th>\n",
       "      <td>217</td>\n",
       "      <td>None</td>\n",
       "      <td>5</td>\n",
       "      <td>False</td>\n",
       "      <td>None</td>\n",
       "    </tr>\n",
       "    <tr>\n",
       "      <th>wirehair.n.01</th>\n",
       "      <td>218</td>\n",
       "      <td>[lakeland_terrier.n.01, welsh_terrier.n.01]</td>\n",
       "      <td>4</td>\n",
       "      <td>True</td>\n",
       "      <td>[117, 212]</td>\n",
       "    </tr>\n",
       "    <tr>\n",
       "      <th>wolf.n.01</th>\n",
       "      <td>219</td>\n",
       "      <td>[coyote.n.01, red_wolf.n.01, timber_wolf.n.01,...</td>\n",
       "      <td>1</td>\n",
       "      <td>True</td>\n",
       "      <td>[56, 155, 198, 215, 220]</td>\n",
       "    </tr>\n",
       "    <tr>\n",
       "      <th>wolf_pup.n.01</th>\n",
       "      <td>220</td>\n",
       "      <td>None</td>\n",
       "      <td>2</td>\n",
       "      <td>False</td>\n",
       "      <td>None</td>\n",
       "    </tr>\n",
       "    <tr>\n",
       "      <th>wolfhound.n.01</th>\n",
       "      <td>221</td>\n",
       "      <td>[borzoi.n.01, irish_wolfhound.n.01]</td>\n",
       "      <td>4</td>\n",
       "      <td>True</td>\n",
       "      <td>[29, 104]</td>\n",
       "    </tr>\n",
       "    <tr>\n",
       "      <th>working_dog.n.01</th>\n",
       "      <td>222</td>\n",
       "      <td>[boxer.n.04, bull_mastiff.n.01, bulldog.n.01, ...</td>\n",
       "      <td>2</td>\n",
       "      <td>True</td>\n",
       "      <td>[32, 38, 39, 72, 85, 93, 95, 127, 145, 161, 17...</td>\n",
       "    </tr>\n",
       "    <tr>\n",
       "      <th>yorkshire_terrier.n.01</th>\n",
       "      <td>223</td>\n",
       "      <td>None</td>\n",
       "      <td>4</td>\n",
       "      <td>False</td>\n",
       "      <td>None</td>\n",
       "    </tr>\n",
       "  </tbody>\n",
       "</table>\n",
       "<p>224 rows × 5 columns</p>\n",
       "</div>"
      ],
      "text/plain": [
       "                                     ind  \\\n",
       "str_synset                                 \n",
       "aardwolf.n.01                          0   \n",
       "affenpinscher.n.01                     1   \n",
       "afghan_hound.n.01                      2   \n",
       "african_hunting_dog.n.01               3   \n",
       "airedale.n.01                          4   \n",
       "american_foxhound.n.01                 5   \n",
       "american_staffordshire_terrier.n.01    6   \n",
       "american_water_spaniel.n.01            7   \n",
       "appenzeller.n.01                       8   \n",
       "arctic_fox.n.01                        9   \n",
       "attack_dog.n.01                       10   \n",
       "australian_terrier.n.01               11   \n",
       "basenji.n.01                          12   \n",
       "basset.n.01                           13   \n",
       "beagle.n.01                           14   \n",
       "bedlington_terrier.n.01               15   \n",
       "belgian_sheepdog.n.01                 16   \n",
       "bernese_mountain_dog.n.01             17   \n",
       "bird_dog.n.01                         18   \n",
       "bitch.n.04                            19   \n",
       "black-and-tan_coonhound.n.01          20   \n",
       "black_fox.n.01                        21   \n",
       "blenheim_spaniel.n.01                 22   \n",
       "bloodhound.n.01                       23   \n",
       "blue_fox.n.01                         24   \n",
       "bluetick.n.01                         25   \n",
       "boarhound.n.01                        26   \n",
       "border_collie.n.01                    27   \n",
       "border_terrier.n.01                   28   \n",
       "borzoi.n.01                           29   \n",
       "...                                  ...   \n",
       "sussex_spaniel.n.01                  194   \n",
       "terrier.n.01                         195   \n",
       "tibetan_mastiff.n.01                 196   \n",
       "tibetan_terrier.n.01                 197   \n",
       "timber_wolf.n.01                     198   \n",
       "toy_dog.n.01                         199   \n",
       "toy_manchester.n.01                  200   \n",
       "toy_poodle.n.01                      201   \n",
       "toy_spaniel.n.01                     202   \n",
       "toy_terrier.n.01                     203   \n",
       "vixen.n.02                           204   \n",
       "vizsla.n.01                          205   \n",
       "walker_hound.n.01                    206   \n",
       "watchdog.n.02                        207   \n",
       "water_dog.n.02                       208   \n",
       "water_spaniel.n.01                   209   \n",
       "weimaraner.n.01                      210   \n",
       "welsh_springer_spaniel.n.01          211   \n",
       "welsh_terrier.n.01                   212   \n",
       "west_highland_white_terrier.n.01     213   \n",
       "whippet.n.01                         214   \n",
       "white_wolf.n.01                      215   \n",
       "wild_dog.n.01                        216   \n",
       "wire-haired_fox_terrier.n.01         217   \n",
       "wirehair.n.01                        218   \n",
       "wolf.n.01                            219   \n",
       "wolf_pup.n.01                        220   \n",
       "wolfhound.n.01                       221   \n",
       "working_dog.n.01                     222   \n",
       "yorkshire_terrier.n.01               223   \n",
       "\n",
       "                                                                              hyponyms  \\\n",
       "str_synset                                                                               \n",
       "aardwolf.n.01                                                                     None   \n",
       "affenpinscher.n.01                                                                None   \n",
       "afghan_hound.n.01                                                                 None   \n",
       "african_hunting_dog.n.01                                                          None   \n",
       "airedale.n.01                                                                     None   \n",
       "american_foxhound.n.01                                                            None   \n",
       "american_staffordshire_terrier.n.01                                               None   \n",
       "american_water_spaniel.n.01                                                       None   \n",
       "appenzeller.n.01                                                                  None   \n",
       "arctic_fox.n.01                                                        [blue_fox.n.01]   \n",
       "attack_dog.n.01                                                                   None   \n",
       "australian_terrier.n.01                                                           None   \n",
       "basenji.n.01                                                                      None   \n",
       "basset.n.01                                                                       None   \n",
       "beagle.n.01                                                                       None   \n",
       "bedlington_terrier.n.01                                                           None   \n",
       "belgian_sheepdog.n.01                                [groenendael.n.01, malinois.n.01]   \n",
       "bernese_mountain_dog.n.01                                                         None   \n",
       "bird_dog.n.01                                                                     None   \n",
       "bitch.n.04                                                          [brood_bitch.n.01]   \n",
       "black-and-tan_coonhound.n.01                                                      None   \n",
       "black_fox.n.01                                                                    None   \n",
       "blenheim_spaniel.n.01                                                             None   \n",
       "bloodhound.n.01                                                                   None   \n",
       "blue_fox.n.01                                                                     None   \n",
       "bluetick.n.01                                                                     None   \n",
       "boarhound.n.01                                                                    None   \n",
       "border_collie.n.01                                                                None   \n",
       "border_terrier.n.01                                                               None   \n",
       "borzoi.n.01                                                                       None   \n",
       "...                                                                                ...   \n",
       "sussex_spaniel.n.01                                                               None   \n",
       "terrier.n.01                         [airedale.n.01, australian_terrier.n.01, bedli...   \n",
       "tibetan_mastiff.n.01                                                              None   \n",
       "tibetan_terrier.n.01                                                              None   \n",
       "timber_wolf.n.01                                                                  None   \n",
       "toy_dog.n.01                         [chihuahua.n.03, japanese_spaniel.n.01, maltes...   \n",
       "toy_manchester.n.01                                                               None   \n",
       "toy_poodle.n.01                                                                   None   \n",
       "toy_spaniel.n.01                     [english_toy_spaniel.n.01, king_charles_spanie...   \n",
       "toy_terrier.n.01                                                                  None   \n",
       "vixen.n.02                                                                        None   \n",
       "vizsla.n.01                                                                       None   \n",
       "walker_hound.n.01                                                                 None   \n",
       "watchdog.n.02                        [attack_dog.n.01, housedog.n.01, kuvasz.n.01, ...   \n",
       "water_dog.n.02                                                                    None   \n",
       "water_spaniel.n.01                   [american_water_spaniel.n.01, irish_water_span...   \n",
       "weimaraner.n.01                                                                   None   \n",
       "welsh_springer_spaniel.n.01                                                       None   \n",
       "welsh_terrier.n.01                                             [sealyham_terrier.n.01]   \n",
       "west_highland_white_terrier.n.01                                                  None   \n",
       "whippet.n.01                                                                      None   \n",
       "white_wolf.n.01                                                                   None   \n",
       "wild_dog.n.01                        [african_hunting_dog.n.01, crab-eating_dog.n.0...   \n",
       "wire-haired_fox_terrier.n.01                                                      None   \n",
       "wirehair.n.01                              [lakeland_terrier.n.01, welsh_terrier.n.01]   \n",
       "wolf.n.01                            [coyote.n.01, red_wolf.n.01, timber_wolf.n.01,...   \n",
       "wolf_pup.n.01                                                                     None   \n",
       "wolfhound.n.01                                     [borzoi.n.01, irish_wolfhound.n.01]   \n",
       "working_dog.n.01                     [boxer.n.04, bull_mastiff.n.01, bulldog.n.01, ...   \n",
       "yorkshire_terrier.n.01                                                            None   \n",
       "\n",
       "                                     level      D  \\\n",
       "str_synset                                          \n",
       "aardwolf.n.01                            2  False   \n",
       "affenpinscher.n.01                       5  False   \n",
       "afghan_hound.n.01                        4  False   \n",
       "african_hunting_dog.n.01                 2  False   \n",
       "airedale.n.01                            4  False   \n",
       "american_foxhound.n.01                   5  False   \n",
       "american_staffordshire_terrier.n.01      5  False   \n",
       "american_water_spaniel.n.01              6  False   \n",
       "appenzeller.n.01                         4  False   \n",
       "arctic_fox.n.01                          2   True   \n",
       "attack_dog.n.01                          4  False   \n",
       "australian_terrier.n.01                  4  False   \n",
       "basenji.n.01                             2  False   \n",
       "basset.n.01                              4  False   \n",
       "beagle.n.01                              4  False   \n",
       "bedlington_terrier.n.01                  4  False   \n",
       "belgian_sheepdog.n.01                    4   True   \n",
       "bernese_mountain_dog.n.01                4  False   \n",
       "bird_dog.n.01                            4  False   \n",
       "bitch.n.04                               1   True   \n",
       "black-and-tan_coonhound.n.01             5  False   \n",
       "black_fox.n.01                           3  False   \n",
       "blenheim_spaniel.n.01                    5  False   \n",
       "bloodhound.n.01                          4  False   \n",
       "blue_fox.n.01                            3  False   \n",
       "bluetick.n.01                            4  False   \n",
       "boarhound.n.01                           4  False   \n",
       "border_collie.n.01                       4  False   \n",
       "border_terrier.n.01                      4  False   \n",
       "borzoi.n.01                              5  False   \n",
       "...                                    ...    ...   \n",
       "sussex_spaniel.n.01                      5  False   \n",
       "terrier.n.01                             3   True   \n",
       "tibetan_mastiff.n.01                     4  False   \n",
       "tibetan_terrier.n.01                     4  False   \n",
       "timber_wolf.n.01                         2  False   \n",
       "toy_dog.n.01                             2   True   \n",
       "toy_manchester.n.01                      6  False   \n",
       "toy_poodle.n.01                          3  False   \n",
       "toy_spaniel.n.01                         3   True   \n",
       "toy_terrier.n.01                         3  False   \n",
       "vixen.n.02                               2  False   \n",
       "vizsla.n.01                              5  False   \n",
       "walker_hound.n.01                        5  False   \n",
       "watchdog.n.02                            3   True   \n",
       "water_dog.n.02                           4  False   \n",
       "water_spaniel.n.01                       5   True   \n",
       "weimaraner.n.01                          4  False   \n",
       "welsh_springer_spaniel.n.01              6  False   \n",
       "welsh_terrier.n.01                       5   True   \n",
       "west_highland_white_terrier.n.01         4  False   \n",
       "whippet.n.01                             5  False   \n",
       "white_wolf.n.01                          2  False   \n",
       "wild_dog.n.01                            1   True   \n",
       "wire-haired_fox_terrier.n.01             5  False   \n",
       "wirehair.n.01                            4   True   \n",
       "wolf.n.01                                1   True   \n",
       "wolf_pup.n.01                            2  False   \n",
       "wolfhound.n.01                           4   True   \n",
       "working_dog.n.01                         2   True   \n",
       "yorkshire_terrier.n.01                   4  False   \n",
       "\n",
       "                                                                        numeric_synset  \n",
       "str_synset                                                                              \n",
       "aardwolf.n.01                                                                     None  \n",
       "affenpinscher.n.01                                                                None  \n",
       "afghan_hound.n.01                                                                 None  \n",
       "african_hunting_dog.n.01                                                          None  \n",
       "airedale.n.01                                                                     None  \n",
       "american_foxhound.n.01                                                            None  \n",
       "american_staffordshire_terrier.n.01                                               None  \n",
       "american_water_spaniel.n.01                                                       None  \n",
       "appenzeller.n.01                                                                  None  \n",
       "arctic_fox.n.01                                                                   [24]  \n",
       "attack_dog.n.01                                                                   None  \n",
       "australian_terrier.n.01                                                           None  \n",
       "basenji.n.01                                                                      None  \n",
       "basset.n.01                                                                       None  \n",
       "beagle.n.01                                                                       None  \n",
       "bedlington_terrier.n.01                                                           None  \n",
       "belgian_sheepdog.n.01                                                        [92, 124]  \n",
       "bernese_mountain_dog.n.01                                                         None  \n",
       "bird_dog.n.01                                                                     None  \n",
       "bitch.n.04                                                                        [36]  \n",
       "black-and-tan_coonhound.n.01                                                      None  \n",
       "black_fox.n.01                                                                    None  \n",
       "blenheim_spaniel.n.01                                                             None  \n",
       "bloodhound.n.01                                                                   None  \n",
       "blue_fox.n.01                                                                     None  \n",
       "bluetick.n.01                                                                     None  \n",
       "boarhound.n.01                                                                    None  \n",
       "border_collie.n.01                                                                None  \n",
       "border_terrier.n.01                                                               None  \n",
       "borzoi.n.01                                                                       None  \n",
       "...                                                                                ...  \n",
       "sussex_spaniel.n.01                                                               None  \n",
       "terrier.n.01                         [4, 11, 15, 28, 30, 40, 41, 62, 77, 102, 110, ...  \n",
       "tibetan_mastiff.n.01                                                              None  \n",
       "tibetan_terrier.n.01                                                              None  \n",
       "timber_wolf.n.01                                                                  None  \n",
       "toy_dog.n.01                                        [45, 107, 125, 140, 176, 202, 203]  \n",
       "toy_manchester.n.01                                                               None  \n",
       "toy_poodle.n.01                                                                   None  \n",
       "toy_spaniel.n.01                                                        [70, 111, 138]  \n",
       "toy_terrier.n.01                                                                  None  \n",
       "vixen.n.02                                                                        None  \n",
       "vizsla.n.01                                                                       None  \n",
       "walker_hound.n.01                                                                 None  \n",
       "watchdog.n.02                                                  [10, 97, 115, 142, 165]  \n",
       "water_dog.n.02                                                                    None  \n",
       "water_spaniel.n.01                                                            [7, 103]  \n",
       "weimaraner.n.01                                                                   None  \n",
       "welsh_springer_spaniel.n.01                                                       None  \n",
       "welsh_terrier.n.01                                                               [169]  \n",
       "west_highland_white_terrier.n.01                                                  None  \n",
       "whippet.n.01                                                                      None  \n",
       "white_wolf.n.01                                                                   None  \n",
       "wild_dog.n.01                                                     [3, 57, 63, 64, 151]  \n",
       "wire-haired_fox_terrier.n.01                                                      None  \n",
       "wirehair.n.01                                                               [117, 212]  \n",
       "wolf.n.01                                                     [56, 155, 198, 215, 220]  \n",
       "wolf_pup.n.01                                                                     None  \n",
       "wolfhound.n.01                                                               [29, 104]  \n",
       "working_dog.n.01                     [32, 38, 39, 72, 85, 93, 95, 127, 145, 161, 17...  \n",
       "yorkshire_terrier.n.01                                                            None  \n",
       "\n",
       "[224 rows x 5 columns]"
      ]
     },
     "execution_count": 174,
     "metadata": {},
     "output_type": "execute_result"
    }
   ],
   "source": [
    "df"
   ]
  },
  {
   "cell_type": "code",
   "execution_count": 132,
   "metadata": {},
   "outputs": [
    {
     "data": {
      "image/png": "[encoded data removed]",
      "text/plain": [
       "<Figure size 720x720 with 1 Axes>"
      ]
     },
     "metadata": {
      "needs_background": "light"
     },
     "output_type": "display_data"
    }
   ],
   "source": [
    "plot_x(x.detach().numpy())\n",
    "plt.show()"
   ]
  },
  {
   "cell_type": "code",
   "execution_count": 148,
   "metadata": {},
   "outputs": [
    {
     "data": {
      "text/plain": [
       "tensor([], dtype=torch.int64)"
      ]
     },
     "execution_count": 148,
     "metadata": {},
     "output_type": "execute_result"
    }
   ],
   "source": [
    "torch.isnan(torch.sum(x.grad,axis = 1)).nonzero(as_tuple=True)[0]"
   ]
  },
  {
   "cell_type": "code",
   "execution_count": null,
   "metadata": {},
   "outputs": [],
   "source": [
    "u_ind = 42\n",
    "tons of v_inds"
   ]
  },
  {
   "cell_type": "code",
   "execution_count": 15,
   "metadata": {},
   "outputs": [
    {
     "data": {
      "text/plain": [
       "tensor([-0.1776,  0.0813], dtype=torch.float64, grad_fn=<SelectBackward>)"
      ]
     },
     "execution_count": 15,
     "metadata": {},
     "output_type": "execute_result"
    }
   ],
   "source": [
    "x[42]"
   ]
  },
  {
   "cell_type": "code",
   "execution_count": 16,
   "metadata": {},
   "outputs": [
    {
     "data": {
      "text/plain": [
       "[[144, 167, 7, 188, 187, 55, 247, 146, 102, 173, 5],\n",
       " [206, 261, 237, 175, 181, 258, 54, 221, 29, 37, 127],\n",
       " [174, 284, 126, 110, 104, 274, 230, 99, 111, 239, 139],\n",
       " [117, 148, 273, 174, 253, 67, 255, 267, 47, 35, 295],\n",
       " [178, 214, 15, 8, 141, 163, 119, 230, 250, 103, 334],\n",
       " [36, 93, 212, 7, 113, 0, 168, 269, 107, 67, 403],\n",
       " [235, 29, 206, 184, 125, 50, 196, 168, 89, 102, 409],\n",
       " [144, 271, 218, 245, 31, 92, 3, 42, 210, 153, 421],\n",
       " [288, 232, 44, 91, 51, 210, 262, 187, 40, 221, 477],\n",
       " [271, 224, 192, 150, 253, 195, 12, 173, 214, 38, 482],\n",
       " [268, 62, 76, 287, 234, 279, 58, 143, 281, 256, 524],\n",
       " [11, 231, 39, 190, 105, 210, 69, 86, 94, 142, 576],\n",
       " [68, 163, 62, 90, 254, 273, 29, 152, 169, 118, 684],\n",
       " [223, 142, 37, 249, 28, 196, 211, 201, 41, 205, 719],\n",
       " [126, 185, 25, 77, 211, 102, 20, 175, 281, 238, 745],\n",
       " [82, 34, 219, 37, 217, 121, 77, 284, 96, 196, 844],\n",
       " [84, 143, 154, 209, 44, 190, 264, 265, 60, 63, 902],\n",
       " [116, 249, 79, 174, 48, 232, 268, 157, 215, 57, 904],\n",
       " [204, 284, 65, 13, 274, 84, 22, 59, 126, 214, 914],\n",
       " [155, 71, 203, 273, 90, 15, 146, 91, 142, 168, 1002],\n",
       " [138, 7, 121, 59, 22, 157, 267, 91, 125, 14, 1108]]"
      ]
     },
     "execution_count": 16,
     "metadata": {},
     "output_type": "execute_result"
    }
   ],
   "source": [
    "Nu[42]"
   ]
  },
  {
   "cell_type": "code",
   "execution_count": 14,
   "metadata": {},
   "outputs": [
    {
     "data": {
      "text/plain": [
       "tensor([ 41,  42,  80, 102, 149, 201, 255])"
      ]
     },
     "execution_count": 14,
     "metadata": {},
     "output_type": "execute_result"
    }
   ],
   "source": [
    "torch.isnan(torch.sum(x1,axis = 1)).nonzero(as_tuple=True)[0]"
   ]
  },
  {
   "cell_type": "code",
   "execution_count": 30,
   "metadata": {},
   "outputs": [
    {
     "data": {
      "text/plain": [
       "tensor([ 42,  58,  61,  96, 102, 149, 165, 202, 213, 288])"
      ]
     },
     "execution_count": 30,
     "metadata": {},
     "output_type": "execute_result"
    }
   ],
   "source": [
    "torch.isnan(torch.sum(x1,axis = 1)).nonzero(as_tuple=True)[0]"
   ]
  },
  {
   "cell_type": "code",
   "execution_count": 38,
   "metadata": {},
   "outputs": [
    {
     "data": {
      "text/plain": [
       "tensor([ 0.2334, -0.0877], dtype=torch.float64, grad_fn=<SelectBackward>)"
      ]
     },
     "execution_count": 38,
     "metadata": {},
     "output_type": "execute_result"
    }
   ],
   "source": [
    "x[63]"
   ]
  },
  {
   "cell_type": "code",
   "execution_count": 81,
   "metadata": {},
   "outputs": [
    {
     "data": {
      "text/plain": [
       "tensor([nan, nan], dtype=torch.float64)"
      ]
     },
     "execution_count": 81,
     "metadata": {},
     "output_type": "execute_result"
    }
   ],
   "source": [
    "x.grad[42]"
   ]
  },
  {
   "cell_type": "code",
   "execution_count": 62,
   "metadata": {},
   "outputs": [
    {
     "data": {
      "text/plain": [
       "1170"
      ]
     },
     "execution_count": 62,
     "metadata": {},
     "output_type": "execute_result"
    }
   ],
   "source": [
    "len(x)"
   ]
  },
  {
   "cell_type": "code",
   "execution_count": 64,
   "metadata": {},
   "outputs": [
    {
     "name": "stderr",
     "output_type": "stream",
     "text": [
      "/Library/Frameworks/Python.framework/Versions/3.7/lib/python3.7/site-packages/ipykernel_launcher.py:1: UserWarning: torch.range is deprecated and will be removed in a future release because its behavior is inconsistent with Python's range builtin. Instead, use torch.arange, which produces values in [start, end).\n",
      "  \"\"\"Entry point for launching an IPython kernel.\n"
     ]
    },
    {
     "data": {
      "text/plain": [
       "tensor([0., 0., 0.,  ..., 0., 0., 0.])"
      ]
     },
     "execution_count": 64,
     "metadata": {},
     "output_type": "execute_result"
    }
   ],
   "source": [
    "torch.where(torch.isnan(torch.sum(x,axis = 1)), torch.range(0,len(x)-1), 0*torch.range(0,len(x)-1))"
   ]
  },
  {
   "cell_type": "code",
   "execution_count": 61,
   "metadata": {},
   "outputs": [
    {
     "name": "stderr",
     "output_type": "stream",
     "text": [
      "/Library/Frameworks/Python.framework/Versions/3.7/lib/python3.7/site-packages/ipykernel_launcher.py:1: UserWarning: torch.range is deprecated and will be removed in a future release because its behavior is inconsistent with Python's range builtin. Instead, use torch.arange, which produces values in [start, end).\n",
      "  \"\"\"Entry point for launching an IPython kernel.\n"
     ]
    },
    {
     "data": {
      "text/plain": [
       "tensor([0.0000e+00, 1.0000e+00, 2.0000e+00,  ..., 1.1670e+03, 1.1680e+03,\n",
       "        1.1690e+03])"
      ]
     },
     "execution_count": 61,
     "metadata": {},
     "output_type": "execute_result"
    }
   ],
   "source": [
    "torch.range(0,len(x)-1)"
   ]
  },
  {
   "cell_type": "code",
   "execution_count": 55,
   "metadata": {},
   "outputs": [
    {
     "ename": "TypeError",
     "evalue": "list indices must be integers or slices, not list",
     "output_type": "error",
     "traceback": [
      "\u001b[0;31m---------------------------------------------------------------------------\u001b[0m",
      "\u001b[0;31mTypeError\u001b[0m                                 Traceback (most recent call last)",
      "\u001b[0;32m<ipython-input-55-4524c8627133>\u001b[0m in \u001b[0;36m<module>\u001b[0;34m\u001b[0m\n\u001b[0;32m----> 1\u001b[0;31m \u001b[0mlist\u001b[0m\u001b[0;34m(\u001b[0m\u001b[0mrange\u001b[0m\u001b[0;34m(\u001b[0m\u001b[0;36m0\u001b[0m\u001b[0;34m,\u001b[0m\u001b[0mlen\u001b[0m\u001b[0;34m(\u001b[0m\u001b[0mx\u001b[0m\u001b[0;34m)\u001b[0m\u001b[0;34m)\u001b[0m\u001b[0;34m)\u001b[0m\u001b[0;34m[\u001b[0m\u001b[0mtorch\u001b[0m\u001b[0;34m.\u001b[0m\u001b[0misnan\u001b[0m\u001b[0;34m(\u001b[0m\u001b[0mtorch\u001b[0m\u001b[0;34m.\u001b[0m\u001b[0msum\u001b[0m\u001b[0;34m(\u001b[0m\u001b[0mx\u001b[0m\u001b[0;34m,\u001b[0m\u001b[0maxis\u001b[0m \u001b[0;34m=\u001b[0m \u001b[0;36m1\u001b[0m\u001b[0;34m)\u001b[0m\u001b[0;34m)\u001b[0m\u001b[0;34m.\u001b[0m\u001b[0mtolist\u001b[0m\u001b[0;34m(\u001b[0m\u001b[0;34m)\u001b[0m\u001b[0;34m]\u001b[0m\u001b[0;34m\u001b[0m\u001b[0;34m\u001b[0m\u001b[0m\n\u001b[0m",
      "\u001b[0;31mTypeError\u001b[0m: list indices must be integers or slices, not list"
     ]
    }
   ],
   "source": [
    "list(range(0,len(x)))"
   ]
  },
  {
   "cell_type": "code",
   "execution_count": 15,
   "metadata": {},
   "outputs": [
    {
     "data": {
      "text/plain": [
       "tensor([nan, nan], dtype=torch.float64, grad_fn=<SliceBackward>)"
      ]
     },
     "execution_count": 15,
     "metadata": {},
     "output_type": "execute_result"
    }
   ],
   "source": [
    "x[149,:]"
   ]
  },
  {
   "cell_type": "code",
   "execution_count": 116,
   "metadata": {},
   "outputs": [
    {
     "data": {
      "text/plain": [
       "tensor(2840.4420, dtype=torch.float64, grad_fn=<NegBackward>)"
      ]
     },
     "execution_count": 116,
     "metadata": {},
     "output_type": "execute_result"
    }
   ],
   "source": [
    "\n",
    "nloss"
   ]
  },
  {
   "cell_type": "code",
   "execution_count": 117,
   "metadata": {},
   "outputs": [
    {
     "data": {
      "text/plain": [
       "tensor(nan, dtype=torch.float64, grad_fn=<NegBackward>)"
      ]
     },
     "execution_count": 117,
     "metadata": {},
     "output_type": "execute_result"
    }
   ],
   "source": [
    "L(x,D,Nu)"
   ]
  },
  {
   "cell_type": "code",
   "execution_count": 74,
   "metadata": {},
   "outputs": [
    {
     "data": {
      "text/plain": [
       "tensor([[ 2.9222, -2.7039],\n",
       "        [-3.8463,  0.8738],\n",
       "        [ 2.0530, -0.4011],\n",
       "        ...,\n",
       "        [-1.7187,  0.6356],\n",
       "        [-0.5333,  1.7141],\n",
       "        [ 0.7739, -1.7009]], dtype=torch.float64)"
      ]
     },
     "execution_count": 74,
     "metadata": {},
     "output_type": "execute_result"
    }
   ],
   "source": []
  },
  {
   "cell_type": "code",
   "execution_count": 104,
   "metadata": {},
   "outputs": [],
   "source": [
    "lr = 1e-5\n",
    "g_pb_inv = ((1 - torch.linalg.norm(x,axis = 1)**2)**2)/4\n",
    "x = proj(x - lr*g_pb_inv.unsqueeze(1)*x.grad)"
   ]
  },
  {
   "cell_type": "code",
   "execution_count": 105,
   "metadata": {},
   "outputs": [
    {
     "data": {
      "text/plain": [
       "tensor([[-0.2434,  0.1587],\n",
       "        [ 0.2449, -0.0994],\n",
       "        [-0.1692, -0.0550],\n",
       "        ...,\n",
       "        [-0.0672, -0.1114],\n",
       "        [-0.1849,  0.1356],\n",
       "        [ 0.1801, -0.0481]], dtype=torch.float64, grad_fn=<SWhereBackward>)"
      ]
     },
     "execution_count": 105,
     "metadata": {},
     "output_type": "execute_result"
    }
   ],
   "source": [
    "x"
   ]
  },
  {
   "cell_type": "code",
   "execution_count": 107,
   "metadata": {},
   "outputs": [
    {
     "data": {
      "text/plain": [
       "tensor(nan, dtype=torch.float64, grad_fn=<NegBackward>)"
      ]
     },
     "execution_count": 107,
     "metadata": {},
     "output_type": "execute_result"
    }
   ],
   "source": [
    "L(x,D,Nu)"
   ]
  },
  {
   "cell_type": "code",
   "execution_count": 103,
   "metadata": {},
   "outputs": [
    {
     "data": {
      "text/plain": [
       "tensor([nan, nan], dtype=torch.float64, grad_fn=<DivBackward0>)"
      ]
     },
     "execution_count": 103,
     "metadata": {},
     "output_type": "execute_result"
    }
   ],
   "source": [
    "g_pb_invz"
   ]
  },
  {
   "cell_type": "code",
   "execution_count": 101,
   "metadata": {},
   "outputs": [
    {
     "ename": "RuntimeError",
     "evalue": "The size of tensor a (2) must match the size of tensor b (1170) at non-singleton dimension 0",
     "output_type": "error",
     "traceback": [
      "\u001b[0;31m---------------------------------------------------------------------------\u001b[0m",
      "\u001b[0;31mRuntimeError\u001b[0m                              Traceback (most recent call last)",
      "\u001b[0;32m<ipython-input-101-f35d5545f9af>\u001b[0m in \u001b[0;36m<module>\u001b[0;34m\u001b[0m\n\u001b[0;32m----> 1\u001b[0;31m \u001b[0mg_pb_inv\u001b[0m\u001b[0;34m.\u001b[0m\u001b[0munsqueeze\u001b[0m\u001b[0;34m(\u001b[0m\u001b[0;36m1\u001b[0m\u001b[0;34m)\u001b[0m\u001b[0;34m*\u001b[0m\u001b[0mx\u001b[0m\u001b[0;34m.\u001b[0m\u001b[0mgrad\u001b[0m\u001b[0;34m\u001b[0m\u001b[0;34m\u001b[0m\u001b[0m\n\u001b[0m",
      "\u001b[0;31mRuntimeError\u001b[0m: The size of tensor a (2) must match the size of tensor b (1170) at non-singleton dimension 0"
     ]
    }
   ],
   "source": [
    "g_pb_inv.unsqueeze(1)*x.grad"
   ]
  },
  {
   "cell_type": "code",
   "execution_count": 22,
   "metadata": {},
   "outputs": [
    {
     "data": {
      "text/plain": [
       "tensor([[nan, nan],\n",
       "        [nan, nan],\n",
       "        [nan, nan],\n",
       "        ...,\n",
       "        [nan, nan],\n",
       "        [nan, nan],\n",
       "        [nan, nan]], dtype=torch.float64, requires_grad=True)"
      ]
     },
     "execution_count": 22,
     "metadata": {},
     "output_type": "execute_result"
    }
   ],
   "source": [
    "x"
   ]
  },
  {
   "cell_type": "code",
   "execution_count": 204,
   "metadata": {},
   "outputs": [
    {
     "data": {
      "text/plain": [
       "tensor(nan, dtype=torch.float64, grad_fn=<AddBackward0>)"
      ]
     },
     "execution_count": 204,
     "metadata": {},
     "output_type": "execute_result"
    }
   ],
   "source": [
    "loss"
   ]
  },
  {
   "cell_type": "markdown",
   "metadata": {},
   "source": [
    "# Explicit Computation for one pass"
   ]
  },
  {
   "cell_type": "code",
   "execution_count": 47,
   "metadata": {},
   "outputs": [
    {
     "data": {
      "text/plain": [
       "[(63, [303, 537, 548, 1134])]"
      ]
     },
     "execution_count": 47,
     "metadata": {},
     "output_type": "execute_result"
    }
   ],
   "source": [
    "list(filter(lambda x: x[0] == 63, D))"
   ]
  },
  {
   "cell_type": "code",
   "execution_count": 54,
   "metadata": {},
   "outputs": [
    {
     "name": "stdout",
     "output_type": "stream",
     "text": [
      "11\n"
     ]
    }
   ],
   "source": [
    "for i, di in enumerate(D):\n",
    "    if di[0] == 63:\n",
    "        print(i)"
   ]
  },
  {
   "cell_type": "code",
   "execution_count": 53,
   "metadata": {},
   "outputs": [
    {
     "data": {
      "text/plain": [
       "291"
      ]
     },
     "execution_count": 53,
     "metadata": {},
     "output_type": "execute_result"
    }
   ],
   "source": [
    "len(D)"
   ]
  },
  {
   "cell_type": "code",
   "execution_count": 61,
   "metadata": {},
   "outputs": [
    {
     "data": {
      "text/plain": [
       "<function _VariableFunctionsClass.logsumexp>"
      ]
     },
     "execution_count": 61,
     "metadata": {},
     "output_type": "execute_result"
    }
   ],
   "source": [
    "torch.logsumexp()"
   ]
  },
  {
   "cell_type": "code",
   "execution_count": 31,
   "metadata": {},
   "outputs": [],
   "source": [
    "vi = vp_x0[0,:]"
   ]
  },
  {
   "cell_type": "code",
   "execution_count": 32,
   "metadata": {},
   "outputs": [
    {
     "data": {
      "text/plain": [
       "tensor([[-0.1578,  0.1027],\n",
       "        [-0.1464, -0.2494],\n",
       "        [ 0.1890, -0.0446],\n",
       "        [-0.1025,  0.1016],\n",
       "        [-0.1676,  0.1029],\n",
       "        [-0.0033, -0.1053],\n",
       "        [ 0.1021,  0.0405],\n",
       "        [-0.0461,  0.0366],\n",
       "        [ 0.0949,  0.0787],\n",
       "        [ 0.2355, -0.1915],\n",
       "        [-0.0567, -0.0444]], dtype=torch.float64, grad_fn=<SliceBackward>)"
      ]
     },
     "execution_count": 32,
     "metadata": {},
     "output_type": "execute_result"
    }
   ],
   "source": [
    "vi"
   ]
  },
  {
   "cell_type": "code",
   "execution_count": 33,
   "metadata": {},
   "outputs": [
    {
     "data": {
      "text/plain": [
       "tensor([[ 0.2476, -0.2076]], dtype=torch.float64, grad_fn=<ViewBackward>)"
      ]
     },
     "execution_count": 33,
     "metadata": {},
     "output_type": "execute_result"
    }
   ],
   "source": [
    "u"
   ]
  },
  {
   "cell_type": "code",
   "execution_count": 38,
   "metadata": {},
   "outputs": [
    {
     "data": {
      "text/plain": [
       "tensor(1.7433, dtype=torch.float64, grad_fn=<LogBackward>)"
      ]
     },
     "execution_count": 38,
     "metadata": {},
     "output_type": "execute_result"
    }
   ],
   "source": [
    "torch.log(torch.sum((torch.exp(-geom.d(u,vi)))))"
   ]
  },
  {
   "cell_type": "code",
   "execution_count": 39,
   "metadata": {},
   "outputs": [
    {
     "data": {
      "text/plain": [
       "tensor(1.7433, dtype=torch.float64, grad_fn=<LogsumexpBackward>)"
      ]
     },
     "execution_count": 39,
     "metadata": {},
     "output_type": "execute_result"
    }
   ],
   "source": [
    "torch.logsumexp(-geom.d(u,vi),dim = 0)"
   ]
  },
  {
   "cell_type": "code",
   "execution_count": 40,
   "metadata": {},
   "outputs": [
    {
     "data": {
      "text/plain": [
       "[tensor(1.7433, dtype=torch.float64, grad_fn=<LogsumexpBackward>),\n",
       " tensor(1.4389, dtype=torch.float64, grad_fn=<LogsumexpBackward>),\n",
       " tensor(1.7409, dtype=torch.float64, grad_fn=<LogsumexpBackward>),\n",
       " tensor(1.7697, dtype=torch.float64, grad_fn=<LogsumexpBackward>)]"
      ]
     },
     "execution_count": 40,
     "metadata": {},
     "output_type": "execute_result"
    }
   ],
   "source": [
    "[torch.logsumexp(-geom.d(u,vi),dim = 0) for vi in vp_x0]"
   ]
  },
  {
   "cell_type": "code",
   "execution_count": 84,
   "metadata": {},
   "outputs": [
    {
     "data": {
      "text/plain": [
       "tensor([-0.9622, -0.7078, -0.6250, -0.5761], dtype=torch.float64,\n",
       "       grad_fn=<LogBackward>)"
      ]
     },
     "execution_count": 84,
     "metadata": {},
     "output_type": "execute_result"
    }
   ],
   "source": [
    "torch.log(torch.exp(-geom.d(u,vs)))"
   ]
  },
  {
   "cell_type": "code",
   "execution_count": 85,
   "metadata": {},
   "outputs": [],
   "source": [
    "denominators = torch.stack([torch.logsumexp(-geom.d(u,vi),dim = 0) for vi in vp_x0])"
   ]
  },
  {
   "cell_type": "code",
   "execution_count": 30,
   "metadata": {},
   "outputs": [
    {
     "name": "stdout",
     "output_type": "stream",
     "text": [
      "63\n",
      "[303, 537, 548, 1134]\n",
      "tensor([[ 0.2476, -0.2076]], dtype=torch.float64, grad_fn=<ViewBackward>)\n",
      "tensor([[-0.0567, -0.0444],\n",
      "        [-0.1383,  0.0591],\n",
      "        [ 0.1400,  0.1640],\n",
      "        [ 0.2469, -0.2390]], dtype=torch.float64, grad_fn=<ViewBackward>)\n",
      "tensor([-0.7163, -0.9650, -0.8146, -0.0706], dtype=torch.float64,\n",
      "       grad_fn=<LogBackward>)\n",
      "[[204, 249, 158, 218, 270, 165, 171, 200, 9, 272, 303], [168, 53, 108, 43, 278, 255, 209, 150, 200, 32, 537], [201, 151, 105, 52, 289, 33, 9, 160, 128, 142, 548], [244, 126, 209, 112, 39, 181, 96, 56, 36, 236, 1134]]\n",
      "tensor(-1.5894, dtype=torch.float64, grad_fn=<SumBackward0>)\n"
     ]
    }
   ],
   "source": [
    "Nu = generate_Nu(D)\n",
    "\n",
    "u_ind, v_inds = D[11]\n",
    "print(u_ind)\n",
    "print(v_inds)\n",
    "\n",
    "u = x[u_ind,:].reshape(1,n_features)\n",
    "print(u)\n",
    "\n",
    "vs = x[v_inds,:].reshape(len(v_inds),n_features)\n",
    "print(vs)\n",
    "\n",
    "numerators = torch.log(torch.exp(-geom.d(u,vs)))\n",
    "print(numerators)\n",
    "\n",
    "vp_inds_lists = Nu[u_ind]\n",
    "print(vp_inds_lists)\n",
    "\n",
    "vp_x0 = x[vp_inds_lists,:]\n",
    "denominators = torch.stack([torch.logsumexp(-geom.d(u,vi),dim = 0) for vi in vp_x0])\n",
    "\n",
    "L_u = torch.sum(numerators / denominators)\n",
    "print(L_u)"
   ]
  },
  {
   "cell_type": "code",
   "execution_count": 60,
   "metadata": {},
   "outputs": [
    {
     "name": "stderr",
     "output_type": "stream",
     "text": [
      "/Library/Frameworks/Python.framework/Versions/3.7/lib/python3.7/site-packages/ipykernel_launcher.py:1: UserWarning: The .grad attribute of a Tensor that is not a leaf Tensor is being accessed. Its .grad attribute won't be populated during autograd.backward(). If you indeed want the gradient for a non-leaf Tensor, use .retain_grad() on the non-leaf Tensor. If you access the non-leaf Tensor by mistake, make sure you access the leaf Tensor instead. See github.com/pytorch/pytorch/pull/30531 for more informations.\n",
      "  \"\"\"Entry point for launching an IPython kernel.\n"
     ]
    }
   ],
   "source": [
    "x[63,:].grad"
   ]
  },
  {
   "cell_type": "markdown",
   "metadata": {},
   "source": [
    "# 2. Initialize Problem"
   ]
  },
  {
   "cell_type": "code",
   "execution_count": null,
   "metadata": {},
   "outputs": [],
   "source": [
    "scale = 0.1\n",
    "n_points = df.shape[0]\n",
    "x0 = scale * (1 - 2*np.random.rand(2 , n_points))"
   ]
  },
  {
   "cell_type": "markdown",
   "metadata": {},
   "source": [
    "# 3. Optimize to Find Poincare Embeddings"
   ]
  },
  {
   "cell_type": "code",
   "execution_count": 10,
   "metadata": {},
   "outputs": [
    {
     "name": "stdout",
     "output_type": "stream",
     "text": [
      "Iteration: 0\n",
      "Loss: -2734.584049905395\n",
      "Iteration: 1\n",
      "Loss: -2765.017948908191\n",
      "Iteration: 2\n",
      "Loss: -2798.8743013317285\n",
      "Iteration: 3\n",
      "Loss: -2831.469152872787\n",
      "Iteration: 4\n",
      "Loss: -2856.296915122606\n",
      "Iteration: 5\n",
      "Loss: -2888.589235518963\n",
      "Iteration: 6\n",
      "Loss: -2900.056289347544\n",
      "Iteration: 7\n",
      "Loss: -2923.5932760017527\n",
      "Iteration: 8\n",
      "Loss: -2938.6732221534267\n",
      "Iteration: 9\n",
      "Loss: -2950.414012832103\n",
      "Iteration: 10\n",
      "Loss: -2972.8041741838583\n",
      "Iteration: 11\n",
      "Loss: -2971.9892353179744\n",
      "Iteration: 12\n",
      "Loss: -2968.5868034440177\n",
      "Iteration: 13\n",
      "Loss: -2978.4606082707382\n",
      "Iteration: 14\n",
      "Loss: -2982.9468896192284\n",
      "Iteration: 15\n",
      "Loss: -3016.723763445375\n",
      "Iteration: 16\n",
      "Loss: -3021.3165714491083\n",
      "Iteration: 17\n",
      "Loss: -3037.615970943317\n",
      "Iteration: 18\n",
      "Loss: -3047.955702400457\n",
      "Iteration: 19\n",
      "Loss: -3045.206178342194\n",
      "Iteration: 20\n",
      "Loss: -3102.222596310217\n",
      "Iteration: 21\n",
      "Loss: -3088.2011995862863\n",
      "Iteration: 22\n",
      "Loss: -3111.2324497539685\n",
      "Iteration: 23\n",
      "Loss: -3106.9778820620986\n",
      "Iteration: 24\n",
      "Loss: -3127.945082618455\n",
      "Iteration: 25\n",
      "Loss: -3129.141153930787\n",
      "Iteration: 26\n",
      "Loss: -3149.7222624731717\n",
      "Iteration: 27\n",
      "Loss: -3156.964540228888\n",
      "Iteration: 28\n",
      "Loss: -3165.2735346741983\n",
      "Iteration: 29\n",
      "Loss: -3185.3276628297667\n",
      "Iteration: 30\n",
      "Loss: -3185.7857457950518\n",
      "Iteration: 31\n",
      "Loss: -3185.7971617666876\n",
      "Iteration: 32\n",
      "Loss: -3213.515994550994\n",
      "Iteration: 33\n",
      "Loss: -3238.2723274657956\n",
      "Iteration: 34\n",
      "Loss: -3239.022016667852\n",
      "Iteration: 35\n",
      "Loss: -3258.3047441524145\n",
      "Iteration: 36\n",
      "Loss: -3291.8854504399496\n",
      "Iteration: 37\n",
      "Loss: -3266.8061839738375\n",
      "Iteration: 38\n",
      "Loss: -3298.2008417757625\n",
      "Iteration: 39\n",
      "Loss: -3286.3965299784004\n"
     ]
    }
   ],
   "source": [
    "# Not yet completed\n",
    "xts, losses = rgd(proj(x0), D = D, num_iter = 40)"
   ]
  },
  {
   "cell_type": "code",
   "execution_count": 11,
   "metadata": {},
   "outputs": [],
   "source": [
    "xf = xts[-1]"
   ]
  },
  {
   "cell_type": "markdown",
   "metadata": {},
   "source": [
    "# 4. Visualization "
   ]
  },
  {
   "cell_type": "markdown",
   "metadata": {},
   "source": [
    "### 4.1 Visualize the Embeddings Throughout the Optimization Process"
   ]
  },
  {
   "cell_type": "code",
   "execution_count": 12,
   "metadata": {},
   "outputs": [],
   "source": [
    "import matplotlib.pyplot as plt\n",
    "import matplotlib.patches as pt\n",
    "from ipywidgets import interact\n",
    "import ipywidgets as widgets"
   ]
  },
  {
   "cell_type": "code",
   "execution_count": 13,
   "metadata": {},
   "outputs": [
    {
     "data": {
      "application/vnd.jupyter.widget-view+json": {
       "model_id": "4855751568014275a798b82633431124",
       "version_major": 2,
       "version_minor": 0
      },
      "text/plain": [
       "interactive(children=(IntSlider(value=0, continuous_update=False, description='t', max=40), Output()), _dom_cl…"
      ]
     },
     "metadata": {},
     "output_type": "display_data"
    }
   ],
   "source": [
    "def plot_x(x):\n",
    "    fig, ax = plt.subplots(figsize=(10, 10))\n",
    "    circle = pt.Circle((0, 0), 1, facecolor='none', edgecolor=(0, 0, 0), linewidth=3, alpha=0.5)\n",
    "    ax.add_patch(circle)\n",
    "    plt.scatter(x[0,:], x[1,:], s=1)\n",
    "    plt.title(\"Hyperbolic Embedding of WordNet Synsets in the Poincare Ball\")\n",
    "    plt.show()\n",
    "\n",
    "    \n",
    "f = lambda t: plot_x(x = xts[t])\n",
    "interact(f,t = widgets.IntSlider(min = 0, max = len(xts)-1, step = 1, continuous_update = False));"
   ]
  },
  {
   "cell_type": "code",
   "execution_count": 37,
   "metadata": {
    "scrolled": true
   },
   "outputs": [
    {
     "data": {
      "image/png": "[encoded data removed]",
      "text/plain": [
       "<Figure size 720x720 with 1 Axes>"
      ]
     },
     "metadata": {
      "needs_background": "light"
     },
     "output_type": "display_data"
    }
   ],
   "source": [
    "plot_x(xts[-1])"
   ]
  },
  {
   "cell_type": "markdown",
   "metadata": {},
   "source": [
    "### 4.2 Visualize Subtrees from WordNet with Networkx\n",
    "TODO"
   ]
  },
  {
   "cell_type": "code",
   "execution_count": 14,
   "metadata": {},
   "outputs": [],
   "source": [
    "import networkx as nx\n",
    "from matplotlib import cm"
   ]
  },
  {
   "cell_type": "code",
   "execution_count": 36,
   "metadata": {},
   "outputs": [
    {
     "data": {
      "image/png": "[encoded data removed]",
      "text/plain": [
       "<Figure size 1080x1080 with 1 Axes>"
      ]
     },
     "metadata": {},
     "output_type": "display_data"
    }
   ],
   "source": [
    "# def display_subtrees_nx(synset_root):\n",
    "#     \"\"\"Display the synset subtrees beginning from a synset root.\"\"\"\n",
    "synset_root = wn.synset('antelope.n.01')\n",
    "df = generate_synset_df(synset_root)\n",
    "max_level = df.level.max()\n",
    "D = generate_D(df)\n",
    "dg = nx.DiGraph()\n",
    "for (u_ind, v_inds) in D:\n",
    "    dg.add_edges_from([(u_ind, v_ind) for v_ind in v_inds])\n",
    "\n",
    "labels = {}    \n",
    "color_map = []\n",
    "for node in dg.nodes():\n",
    "    labels[node] = df.iloc[node].name\n",
    "    color_map.append(cm.coolwarm(float(df.level[node])/max_level))\n",
    "\n",
    "fig = plt.figure(figsize = (15,15))\n",
    "nx.draw(dg, with_labels=False, node_color=color_map)\n",
    "labeled_nodes = nx.draw_networkx_labels(dg, pos = nx.spring_layout(dg), labels = labels)"
   ]
  },
  {
   "cell_type": "markdown",
   "metadata": {},
   "source": [
    "# 5. Explore Embedding Performance"
   ]
  },
  {
   "cell_type": "markdown",
   "metadata": {},
   "source": [
    "TODO"
   ]
  },
  {
   "cell_type": "markdown",
   "metadata": {},
   "source": [
    "# 6. Additional Sanity Checks"
   ]
  },
  {
   "cell_type": "markdown",
   "metadata": {},
   "source": [
    "### Test the partial derivative of the distance function with respect to u or v"
   ]
  },
  {
   "cell_type": "code",
   "execution_count": 17,
   "metadata": {
    "scrolled": true
   },
   "outputs": [
    {
     "name": "stdout",
     "output_type": "stream",
     "text": [
      "u\n",
      "[[-0.85851175]]\n",
      "[-0.85851175]\n",
      "v\n",
      "[[-0.02266943]]\n",
      "[-0.02266943]\n"
     ]
    }
   ],
   "source": [
    "u = 1*(2-np.random.rand(2,1))\n",
    "v = 1*(2-np.random.rand(2,1))\n",
    "\n",
    "delta = 1E-8\n",
    "# wrt u\n",
    "print('u')\n",
    "print(np.dot(np.ones((2,1)).T, dp(u, v)))\n",
    "print((d(u+delta, v) - d(u, v))/delta)\n",
    "\n",
    "# wrt v\n",
    "print('v')\n",
    "print(np.dot(np.ones((2,1)).T,dp(v,u)))\n",
    "print((d(u, v+delta) - d(u, v))/delta)"
   ]
  },
  {
   "cell_type": "markdown",
   "metadata": {},
   "source": [
    "### Test the Euclidean gradient of the loss function"
   ]
  },
  {
   "cell_type": "markdown",
   "metadata": {},
   "source": [
    "TODO: Fix/Finish implementing the gradient\n",
    "\n",
    "Currently the gradient is just a low-magnitude random vector, so these numbers won't be close"
   ]
  },
  {
   "cell_type": "code",
   "execution_count": 18,
   "metadata": {},
   "outputs": [
    {
     "name": "stdout",
     "output_type": "stream",
     "text": [
      "True Loss Slope: 2.0126499293837696\n",
      "grad_E Slope: -6.281831352044364\n"
     ]
    }
   ],
   "source": [
    "mammal = wn.synset('mammal.n.01')\n",
    "df = generate_synset_df(mammal)\n",
    "scale = 0.5\n",
    "n_points = df.shape[0]\n",
    "x0 = scale * (1 - 2*np.random.rand(2 , n_points).astype(np.float64))\n",
    "D = generate_D(df)\n",
    "Nu = generate_Nu(D, Nu_n_samples=10)\n",
    "\n",
    "dx0 = 1E-6\n",
    "print('True Loss Slope: ' + str((L(x0 + dx0*np.ones_like(x0), D, Nu) - L(x0, D, Nu))/dx0))\n",
    "print('grad_E Slope: ' + str(np.dot(np.ones((2,n_points)).flatten().T, grad_E(x0, D, Nu).flatten())))\n",
    "# I need to fix the gradient step: I'm getting divide by zero / np.inf values out!\n",
    "# For now I've replaced the gradient with random values to test this issue\n",
    "# These will not equal each other!"
   ]
  },
  {
   "cell_type": "markdown",
   "metadata": {},
   "source": [
    "TODO: Fix the gradient method so that I don't have any more np.infs!"
   ]
  },
  {
   "cell_type": "code",
   "execution_count": 19,
   "metadata": {},
   "outputs": [
    {
     "data": {
      "text/plain": [
       "array([], dtype=float64)"
      ]
     },
     "execution_count": 19,
     "metadata": {},
     "output_type": "execute_result"
    }
   ],
   "source": [
    "ge = grad_E(x0, D, Nu)\n",
    "ge[ge == np.inf]"
   ]
  }
 ],
 "metadata": {
  "kernelspec": {
   "display_name": "wnpe_env",
   "language": "python",
   "name": "wnpe_env"
  },
  "language_info": {
   "codemirror_mode": {
    "name": "ipython",
    "version": 3
   },
   "file_extension": ".py",
   "mimetype": "text/x-python",
   "name": "python",
   "nbconvert_exporter": "python",
   "pygments_lexer": "ipython3",
   "version": "3.7.2"
  }
 },
 "nbformat": 4,
 "nbformat_minor": 4
}
